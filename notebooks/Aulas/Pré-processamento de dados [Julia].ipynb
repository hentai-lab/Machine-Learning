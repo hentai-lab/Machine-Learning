{
 "cells": [
  {
   "cell_type": "markdown",
   "metadata": {},
   "source": [
    "# Character"
   ]
  },
  {
   "cell_type": "code",
   "execution_count": 1,
   "metadata": {},
   "outputs": [
    {
     "data": {
      "text/plain": [
       "String"
      ]
     },
     "execution_count": 1,
     "metadata": {},
     "output_type": "execute_result"
    }
   ],
   "source": [
    "nome = \"Maria\"\n",
    "typeof(nome)"
   ]
  },
  {
   "cell_type": "code",
   "execution_count": 2,
   "metadata": {},
   "outputs": [
    {
     "name": "stdout",
     "output_type": "stream",
     "text": [
      "Maria"
     ]
    }
   ],
   "source": [
    "print(nome)"
   ]
  },
  {
   "cell_type": "markdown",
   "metadata": {},
   "source": [
    "---\n",
    "\n",
    "# Integer"
   ]
  },
  {
   "cell_type": "code",
   "execution_count": 3,
   "metadata": {},
   "outputs": [
    {
     "data": {
      "text/plain": [
       "Int64"
      ]
     },
     "execution_count": 3,
     "metadata": {},
     "output_type": "execute_result"
    }
   ],
   "source": [
    "qtdFilhos = 1\n",
    "typeof(qtdFilhos)"
   ]
  },
  {
   "cell_type": "code",
   "execution_count": 4,
   "metadata": {},
   "outputs": [
    {
     "name": "stdout",
     "output_type": "stream",
     "text": [
      "1"
     ]
    }
   ],
   "source": [
    "print(qtdFilhos)"
   ]
  },
  {
   "cell_type": "markdown",
   "metadata": {},
   "source": [
    "---\n",
    "\n",
    "# Logical"
   ]
  },
  {
   "cell_type": "code",
   "execution_count": 5,
   "metadata": {},
   "outputs": [
    {
     "data": {
      "text/plain": [
       "Bool"
      ]
     },
     "execution_count": 5,
     "metadata": {},
     "output_type": "execute_result"
    }
   ],
   "source": [
    "temCarro = true\n",
    "typeof(temCarro)"
   ]
  },
  {
   "cell_type": "code",
   "execution_count": 6,
   "metadata": {},
   "outputs": [
    {
     "name": "stdout",
     "output_type": "stream",
     "text": [
      "true"
     ]
    }
   ],
   "source": [
    "print(temCarro)"
   ]
  },
  {
   "cell_type": "markdown",
   "metadata": {},
   "source": [
    "---\n",
    "\n",
    "# Vectors\n",
    "\n",
    "Um conjunto de valores da mesma classe."
   ]
  },
  {
   "cell_type": "code",
   "execution_count": 7,
   "metadata": {},
   "outputs": [
    {
     "name": "stdout",
     "output_type": "stream",
     "text": [
      "[7.76, 80.3, 90.0, 117.4]"
     ]
    }
   ],
   "source": [
    "pesos = [7.76, 80.3, 90, 117.4]\n",
    "print(pesos)"
   ]
  },
  {
   "cell_type": "code",
   "execution_count": 8,
   "metadata": {},
   "outputs": [
    {
     "name": "stdout",
     "output_type": "stream",
     "text": [
      "[\"Maria\", \"Carlos\", \"Pedro\"]"
     ]
    }
   ],
   "source": [
    "nomes = [\"Maria\", \"Carlos\", \"Pedro\"]\n",
    "print(nomes)"
   ]
  },
  {
   "cell_type": "markdown",
   "metadata": {},
   "source": [
    "---\n",
    "\n",
    "# Lists\n",
    "\n",
    "Um conjunto de valores que pode serheterogêneo."
   ]
  },
  {
   "cell_type": "code",
   "execution_count": 9,
   "metadata": {},
   "outputs": [
    {
     "name": "stdout",
     "output_type": "stream",
     "text": [
      "[7.76, 80.3, 90.0, 117.4][\"Maria\", \"Carlos\", \"Pedro\", \"Antônio\"]"
     ]
    }
   ],
   "source": [
    "pesosV = [7.76, 80.3, 90, 117.4]\n",
    "nomesV = [\"Maria\", \"Carlos\", \"Pedro\", \"Antônio\"]\n",
    "\n",
    "myList = [pesosV, nomesV]\n",
    "print(myList[1], myList[2])"
   ]
  },
  {
   "cell_type": "code",
   "execution_count": 10,
   "metadata": {},
   "outputs": [
    {
     "name": "stdout",
     "output_type": "stream",
     "text": [
      "[7.76, 80.3, 90.0, 117.4]"
     ]
    }
   ],
   "source": [
    "print(myList[1])"
   ]
  },
  {
   "cell_type": "code",
   "execution_count": 11,
   "metadata": {},
   "outputs": [
    {
     "name": "stdout",
     "output_type": "stream",
     "text": [
      "[\"Maria\", \"Carlos\", \"Pedro\", \"Antônio\"]"
     ]
    }
   ],
   "source": [
    "print(myList[2])"
   ]
  },
  {
   "cell_type": "markdown",
   "metadata": {},
   "source": [
    "---\n",
    "\n",
    "# Matrizes\n",
    "\n",
    "Vetores com múltiplas dimensões"
   ]
  },
  {
   "cell_type": "code",
   "execution_count": 18,
   "metadata": {},
   "outputs": [
    {
     "data": {
      "text/plain": [
       "2×2 Array{Int64,2}:\n",
       " 1  2\n",
       " 3  4"
      ]
     },
     "execution_count": 18,
     "metadata": {},
     "output_type": "execute_result"
    }
   ],
   "source": [
    "matrix = [1 2;3 4]"
   ]
  },
  {
   "cell_type": "markdown",
   "metadata": {},
   "source": [
    "---\n",
    "\n",
    "# Data frames\n",
    "\n",
    "Múltiplos vetores de classes diferentes, mas com o mesmo tamanho."
   ]
  },
  {
   "cell_type": "code",
   "execution_count": 13,
   "metadata": {},
   "outputs": [
    {
     "ename": "DimensionMismatch",
     "evalue": "DimensionMismatch(\"column length 3 for column(s) Heights, and is incompatible with column length 4 for column(s) First_names\")",
     "output_type": "error",
     "traceback": [
      "DimensionMismatch(\"column length 3 for column(s) Heights, and is incompatible with column length 4 for column(s) First_names\")",
      "",
      "Stacktrace:",
      " [1] (::getfield(DataFrames, Symbol(\"##DataFrame#91#94\")))(::Bool, ::Type{DataFrame}, ::Array{Any,1}, ::DataFrames.Index) at C:\\Users\\mpolillo\\.julia\\packages\\DataFrames\\XuYBH\\src\\dataframe\\dataframe.jl:121",
      " [2] Type at .\\none:0 [inlined]",
      " [3] #DataFrame#102(::Base.Iterators.Pairs{Symbol,Array{T,1} where T,Tuple{Symbol,Symbol},NamedTuple{(:Heights, :First_names),Tuple{Array{Float64,1},Array{String,1}}}}, ::Type{DataFrame}) at C:\\Users\\mpolillo\\.julia\\packages\\DataFrames\\XuYBH\\src\\dataframe\\dataframe.jl:177",
      " [4] (::getfield(Core, Symbol(\"#kw#Type\")))(::NamedTuple{(:Heights, :First_names),Tuple{Array{Float64,1},Array{String,1}}}, ::Type{DataFrame}) at .\\none:0",
      " [5] top-level scope at In[13]:5"
     ]
    }
   ],
   "source": [
    "using DataFrames\n",
    "\n",
    "vector1 = [188.2, 181.3, 193.4]\n",
    "vector2 = [\"Jeff\", \"Roger\", \"Andrew\", \"Brian\"]\n",
    "\n",
    "myDataFrame = DataFrame(Heights = vector1, First_names = vector2)"
   ]
  },
  {
   "cell_type": "code",
   "execution_count": 14,
   "metadata": {},
   "outputs": [
    {
     "ename": "UndefVarError",
     "evalue": "UndefVarError: myDataFrame not defined",
     "output_type": "error",
     "traceback": [
      "UndefVarError: myDataFrame not defined",
      "",
      "Stacktrace:",
      " [1] top-level scope at In[14]:1"
     ]
    }
   ],
   "source": [
    "myDataFrame"
   ]
  },
  {
   "cell_type": "markdown",
   "metadata": {},
   "source": [
    "# Data frames"
   ]
  },
  {
   "cell_type": "code",
   "execution_count": 19,
   "metadata": {},
   "outputs": [
    {
     "data": {
      "text/html": [
       "<table class=\"data-frame\"><thead><tr><th></th><th>Heights</th><th>First_names</th></tr><tr><th></th><th>Float64</th><th>String</th></tr></thead><tbody><p>3 rows × 2 columns</p><tr><th>1</th><td>188.2</td><td>Jeff</td></tr><tr><th>2</th><td>181.3</td><td>Roger</td></tr><tr><th>3</th><td>193.4</td><td>Andrew</td></tr></tbody></table>"
      ],
      "text/latex": [
       "\\begin{tabular}{r|cc}\n",
       "\t& Heights & First\\_names\\\\\n",
       "\t\\hline\n",
       "\t& Float64 & String\\\\\n",
       "\t\\hline\n",
       "\t1 & 188.2 & Jeff \\\\\n",
       "\t2 & 181.3 & Roger \\\\\n",
       "\t3 & 193.4 & Andrew \\\\\n",
       "\\end{tabular}\n"
      ],
      "text/plain": [
       "3×2 DataFrame\n",
       "│ Row │ Heights │ First_names │\n",
       "│     │ \u001b[90mFloat64\u001b[39m │ \u001b[90mString\u001b[39m      │\n",
       "├─────┼─────────┼─────────────┤\n",
       "│ 1   │ 188.2   │ Jeff        │\n",
       "│ 2   │ 181.3   │ Roger       │\n",
       "│ 3   │ 193.4   │ Andrew      │"
      ]
     },
     "execution_count": 19,
     "metadata": {},
     "output_type": "execute_result"
    }
   ],
   "source": [
    "using DataFrames\n",
    "\n",
    "vector1 = [188.2, 181.3, 193.4]\n",
    "vector2 = [\"Jeff\", \"Roger\", \"Andrew\"]\n",
    "\n",
    "myDataFrame = DataFrame(Heights = vector1, First_names = vector2)"
   ]
  },
  {
   "cell_type": "markdown",
   "metadata": {},
   "source": [
    "---\n",
    "\n",
    "# Factors\n",
    "\n",
    "Variáveis qualitativas que podem ser incluídas no modelo."
   ]
  },
  {
   "cell_type": "code",
   "execution_count": null,
   "metadata": {},
   "outputs": [],
   "source": []
  },
  {
   "cell_type": "markdown",
   "metadata": {},
   "source": [
    "---\n",
    "\n",
    "# Missing values\n",
    "\n",
    "No R os valores faltantes são codificados como NA"
   ]
  },
  {
   "cell_type": "code",
   "execution_count": 95,
   "metadata": {},
   "outputs": [
    {
     "name": "stdout",
     "output_type": "stream",
     "text": [
      "[188.2, 181.3, 193.4, NaN]\n",
      "\n",
      "===============\n",
      "\n",
      "false\n",
      "false\n",
      "false\n",
      "true\n"
     ]
    }
   ],
   "source": [
    "vector1 = [188.2, 181.3, 193.4, NaN]\n",
    "print(vector1)\n",
    "\n",
    "print(\"\\n\\n===============\\n\\n\")\n",
    "\n",
    "for i = 1:4\n",
    "    print(isnan(vector1[i]), \"\\n\")\n",
    "end"
   ]
  },
  {
   "cell_type": "markdown",
   "metadata": {},
   "source": [
    "---\n",
    "\n",
    "# Subsetting"
   ]
  },
  {
   "cell_type": "code",
   "execution_count": 102,
   "metadata": {},
   "outputs": [
    {
     "name": "stdout",
     "output_type": "stream",
     "text": [
      "188.2\n",
      "\n",
      "188.2 181.3 192.3"
     ]
    }
   ],
   "source": [
    "using DataFrames\n",
    "\n",
    "vector1 = [188.2, 181.3, 193.4, 192.3]\n",
    "vector2 = [\"Jeff\", \"Roger\", \"Andrew\", \"Brian\"]\n",
    "\n",
    "myDataFrame = DataFrame(Heights = vector1, First_names = vector2)\n",
    "\n",
    "print(vector1[1], \"\\n\\n\")\n",
    "print(vector1[1], \" \" ,vector1[2], \" \" , vector1[4])"
   ]
  },
  {
   "cell_type": "markdown",
   "metadata": {},
   "source": [
    "# Subsetting"
   ]
  },
  {
   "cell_type": "code",
   "execution_count": 159,
   "metadata": {},
   "outputs": [
    {
     "name": "stdout",
     "output_type": "stream",
     "text": [
      "DataFrameRow\n",
      "│ Row │ Heights │ First_names │\n",
      "│     │ \u001b[90mFloat64\u001b[39m │ \u001b[90mString\u001b[39m      │\n",
      "├─────┼─────────┼─────────────┤\n",
      "│ 1   │ 188.2   │ Jeff        │\n",
      "\n",
      "===============\n",
      "\n",
      "[\"Jeff\", \"Roger\", \"Andrew\", \"Brian\"]\n",
      "\n",
      "===============\n",
      "\n"
     ]
    }
   ],
   "source": [
    "print(myDataFrame[1, :])\n",
    "print(\"\\n\\n===============\\n\\n\")\n",
    "print(myDataFrame[:, 2])\n",
    "print(\"\\n\\n===============\\n\\n\")\n",
    "print()"
   ]
  },
  {
   "cell_type": "markdown",
   "metadata": {},
   "source": [
    "---\n",
    "\n",
    "# Logical subsetting"
   ]
  },
  {
   "cell_type": "code",
   "execution_count": 157,
   "metadata": {},
   "outputs": [
    {
     "name": "stdout",
     "output_type": "stream",
     "text": [
      "1×2 DataFrame\n",
      "│ Row │ Heights │ First_names │\n",
      "│     │ \u001b[90mFloat64\u001b[39m │ \u001b[90mString\u001b[39m      │\n",
      "├─────┼─────────┼─────────────┤\n",
      "│ 1   │ 188.2   │ Jeff        │\n",
      "\n",
      "===============\n",
      "\n",
      "2×2 DataFrame\n",
      "│ Row │ Heights │ First_names │\n",
      "│     │ \u001b[90mFloat64\u001b[39m │ \u001b[90mString\u001b[39m      │\n",
      "├─────┼─────────┼─────────────┤\n",
      "│ 1   │ 188.2   │ Jeff        │\n",
      "│ 2   │ 181.3   │ Roger       │"
     ]
    }
   ],
   "source": [
    "print(myDataFrame[myDataFrame.First_names .== \"Jeff\", :])\n",
    "print(\"\\n\\n===============\\n\\n\")\n",
    "print(myDataFrame[myDataFrame.Heights .< 190, :])"
   ]
  }
 ],
 "metadata": {
  "kernelspec": {
   "display_name": "Julia 1.2.0",
   "language": "julia",
   "name": "julia-1.2"
  },
  "language_info": {
   "file_extension": ".jl",
   "mimetype": "application/julia",
   "name": "julia",
   "version": "1.2.0"
  }
 },
 "nbformat": 4,
 "nbformat_minor": 2
}
