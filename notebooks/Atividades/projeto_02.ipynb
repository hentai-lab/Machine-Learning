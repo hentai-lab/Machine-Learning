{
 "cells": [
  {
   "cell_type": "code",
   "execution_count": null,
   "metadata": {
    "colab": {
     "base_uri": "https://localhost:8080/",
     "height": 80
    },
    "colab_type": "code",
    "id": "8nFxcQqfYfwp",
    "outputId": "8bf2ba7f-d836-4780-8cb5-ba6e31725f55",
    "scrolled": false
   },
   "outputs": [],
   "source": [
    "import pandas\n",
    "import numpy\n",
    "import io\n",
    "import requests\n",
    "import seaborn\n",
    "import matplotlib.pyplot as plt\n",
    "import tensorflow\n",
    "from sklearn.feature_selection import mutual_info_classif, SelectKBest\n",
    "from sklearn.metrics import confusion_matrix\n",
    "from keras.models import Sequential\n",
    "from keras.layers import Dense, Dropout"
   ]
  },
  {
   "cell_type": "code",
   "execution_count": 0,
   "metadata": {
    "colab": {},
    "colab_type": "code",
    "id": "CnE91yp3Y8LI"
   },
   "outputs": [],
   "source": [
    "def create_dataset_train(X_train, y_train):\n",
    "  dataset_train = pandas.merge(X_train, y_train)\n",
    "  return dataset_train\n",
    "\n",
    "def create_dataset_test(X_test):\n",
    "  X_test_columns = []\n",
    "  for i in X_test.columns:\n",
    "    X_test_columns.append(i)\n",
    "  X_test_columns.append('target')\n",
    "  dataset_test = pandas.DataFrame(X_test, columns=X_test_columns)\n",
    "  return dataset_test\n",
    "\n",
    "def create_full_dataset(dataset_train, dataset_test):\n",
    "  dataset_full = pandas.concat([dataset_train, dataset_test], ignore_index=True, sort=False)\n",
    "  return dataset_full\n",
    "\n",
    "def mutual_information(X_train, y_train):\n",
    "  mi = mutual_info_classif(df_train.drop(['target'], axis=1), df_train['target'])\n",
    "  mi = pandas.Series(mi)\n",
    "  mi.index = df_train.drop(['target'], axis=1).columns\n",
    "  mi = mi.sort_values(ascending=False)\n",
    "  return mi\n",
    "\n",
    "def build_model(n_layers, neurons, dimension, f_activation, dropout=False, do_rate=None):\n",
    "  model = Sequential()\n",
    "  model.add(Dense(neurons[0], input_dim=dimension, activation=f_activation[0]))\n",
    "  if dropout == True:\n",
    "    model.add(Dropout(do_rate[0]))\n",
    "  for i in range(0, n_layers):\n",
    "    model.add(Dense(neurons[i+1], activation=f_activation[i+1]))\n",
    "    if dropout == True:\n",
    "      model.add(Dropout(do_rate[i+1]))\n",
    "  model.add(Dense(1, activation=f_activation[-1]))\n",
    "  return model\n",
    "\n",
    "def create_predict_dataset(dataset_test, y_pred):\n",
    "  for i in range(0, y_pred.shape[0]):\n",
    "    dataset_test.at[i, 'target'] = y_pred[i]\n",
    "  return dataset_test\n",
    "\n",
    "def plot_acc_loss(fit_history):\n",
    "  plt.figure(figsize=(34, 16))\n",
    "\n",
    "  plt.subplot(235)\n",
    "  plt.plot(fit_history.history['binary_accuracy'], color='green')\n",
    "  plt.title('Model binary accuracy')\n",
    "  plt.ylabel('Accuracy')\n",
    "  plt.xlabel('Epoch')\n",
    "\n",
    "  plt.subplot(236)\n",
    "  plt.plot(fit_history.history['loss'], color='red')\n",
    "  plt.title('Model binary crossentropy loss')\n",
    "  plt.ylabel('Loss')\n",
    "  plt.xlabel('Epoch')\n",
    "\n",
    "  plt.show()\n",
    "\n",
    "def return_metrics(confusion_matrix):\n",
    "  true_positive, false_negative, false_positive, true_negative = confusion_matrix.ravel()\n",
    "  prec = (true_positive/(true_positive + false_positive))*100\n",
    "  recall = (true_positive/(true_positive + false_negative))*100\n",
    "  f1 = 2*((prec*recall)/(prec+recall))\n",
    "  return prec, recall, f1"
   ]
  },
  {
   "cell_type": "code",
   "execution_count": 0,
   "metadata": {
    "colab": {},
    "colab_type": "code",
    "id": "kiHXk3f-Ymf4"
   },
   "outputs": [],
   "source": [
    "url_X_train = 'https://media.githubusercontent.com/media/fbarth/ml-espm/master/data/transacoes_financeiras_x_treinamento.csv'\n",
    "url_y_train = 'https://media.githubusercontent.com/media/fbarth/ml-espm/master/data/transacoes_financeiras_y_treinamento.csv'\n",
    "url_X_test = 'https://media.githubusercontent.com/media/fbarth/ml-espm/master/data/transacoes_financeiras_x_teste.csv'\n",
    "\n",
    "s_X_train = requests.get(url_X_train).content\n",
    "s_y_train = requests.get(url_y_train).content\n",
    "s_X_test = requests.get(url_X_test).content\n",
    "\n",
    "X_train = pandas.DataFrame(pandas.read_csv(io.StringIO(s_X_train.decode('utf-8')), sep=\",\"))\n",
    "y_train = pandas.DataFrame(pandas.read_csv(io.StringIO(s_y_train.decode('utf-8')), sep=\",\"))\n",
    "X_test = pandas.DataFrame(pandas.read_csv(io.StringIO(s_X_test.decode('utf-8')), sep=\",\"))"
   ]
  },
  {
   "cell_type": "code",
   "execution_count": 4,
   "metadata": {
    "colab": {
     "base_uri": "https://localhost:8080/",
     "height": 111
    },
    "colab_type": "code",
    "id": "z_3VhVwIYpc3",
    "outputId": "d3ee7afe-5fb9-4991-e328-f4e61fa9ab2f"
   },
   "outputs": [
    {
     "data": {
      "text/html": [
       "<div>\n",
       "<style scoped>\n",
       "    .dataframe tbody tr th:only-of-type {\n",
       "        vertical-align: middle;\n",
       "    }\n",
       "\n",
       "    .dataframe tbody tr th {\n",
       "        vertical-align: top;\n",
       "    }\n",
       "\n",
       "    .dataframe thead th {\n",
       "        text-align: right;\n",
       "    }\n",
       "</style>\n",
       "<table border=\"1\" class=\"dataframe\">\n",
       "  <thead>\n",
       "    <tr style=\"text-align: right;\">\n",
       "      <th></th>\n",
       "      <th>target</th>\n",
       "    </tr>\n",
       "  </thead>\n",
       "  <tbody>\n",
       "    <tr>\n",
       "      <th>0</th>\n",
       "      <td>0</td>\n",
       "    </tr>\n",
       "    <tr>\n",
       "      <th>1</th>\n",
       "      <td>1</td>\n",
       "    </tr>\n",
       "  </tbody>\n",
       "</table>\n",
       "</div>"
      ],
      "text/plain": [
       "   target\n",
       "0       0\n",
       "1       1"
      ]
     },
     "execution_count": 4,
     "metadata": {
      "tags": []
     },
     "output_type": "execute_result"
    }
   ],
   "source": [
    "y_just_train = y_train.drop(['Unnamed: 0'], axis=1)\n",
    "pandas.DataFrame([y_just_train[y_just_train.target == 0].values[0][0], y_just_train[y_just_train.target == 1].values[0][0]], columns=['target'])"
   ]
  },
  {
   "cell_type": "code",
   "execution_count": 5,
   "metadata": {
    "colab": {
     "base_uri": "https://localhost:8080/",
     "height": 51
    },
    "colab_type": "code",
    "id": "yHXQcfq6YqhH",
    "outputId": "9c709d6f-1f44-4766-c18a-5385c720eac6"
   },
   "outputs": [
    {
     "name": "stdout",
     "output_type": "stream",
     "text": [
      "Quantidades de 0s -> 143806\n",
      "Quantidades de 1s -> 16194\n"
     ]
    }
   ],
   "source": [
    "qtd0_train, qtd1_train = y_train['target'].value_counts()\n",
    "print('Quantidades de 0s -> %s\\nQuantidades de 1s -> %s' % (qtd0_train, qtd1_train))"
   ]
  },
  {
   "cell_type": "code",
   "execution_count": 6,
   "metadata": {
    "colab": {
     "base_uri": "https://localhost:8080/",
     "height": 68
    },
    "colab_type": "code",
    "id": "83vYv5vvgRpa",
    "outputId": "624fb79d-5b3e-41d9-92ed-ed05fcd5bf2a"
   },
   "outputs": [
    {
     "name": "stdout",
     "output_type": "stream",
     "text": [
      "Dataset de treino: (160000, 202)\n",
      "Dataset de teste: (40000, 202)\n",
      "Dataset completo: (200000, 202)\n"
     ]
    }
   ],
   "source": [
    "df_train = create_dataset_train(X_train, y_train)\n",
    "df_test = create_dataset_test(X_test)\n",
    "df_full = create_full_dataset(df_train, df_test)\n",
    "\n",
    "print('Dataset de treino: %s\\nDataset de teste: %s\\nDataset completo: %s' % (df_train.shape, df_test.shape, df_full.shape))"
   ]
  },
  {
   "cell_type": "code",
   "execution_count": 7,
   "metadata": {
    "colab": {
     "base_uri": "https://localhost:8080/",
     "height": 660
    },
    "colab_type": "code",
    "id": "u7YNfvDb0BrU",
    "outputId": "73908c8e-0873-4f78-f7be-4e8bbe5d7c9b"
   },
   "outputs": [
    {
     "data": {
      "text/plain": [
       "<matplotlib.axes._subplots.AxesSubplot at 0x7fa785222e48>"
      ]
     },
     "execution_count": 7,
     "metadata": {
      "tags": []
     },
     "output_type": "execute_result"
    },
    {
     "data": {
      "image/png": "[encoded data removed]",
      "text/plain": [
       "<Figure size 1440x720 with 1 Axes>"
      ]
     },
     "metadata": {
      "tags": []
     },
     "output_type": "display_data"
    }
   ],
   "source": [
    "mi = mutual_information(df_train.drop(['target'], axis=1), df_train['target'])\n",
    "mi.plot.bar(figsize=(20, 10), color='cyan')"
   ]
  },
  {
   "cell_type": "code",
   "execution_count": 0,
   "metadata": {
    "colab": {},
    "colab_type": "code",
    "id": "DYwajn-Dydw7"
   },
   "outputs": [],
   "source": [
    "skb_ = SelectKBest(mutual_info_classif, k=10).fit(df_train.drop(['target'], axis=1), df_train['target'])"
   ]
  },
  {
   "cell_type": "code",
   "execution_count": 9,
   "metadata": {
    "colab": {
     "base_uri": "https://localhost:8080/",
     "height": 85
    },
    "colab_type": "code",
    "id": "rpmGTOJ9F-V6",
    "outputId": "985aae27-61cb-45ee-931d-d7d58d574e99"
   },
   "outputs": [
    {
     "name": "stdout",
     "output_type": "stream",
     "text": [
      "Melhores features\n",
      "----------------------------------------------------------------------------------\n",
      "['var_12' 'var_53' 'var_80' 'var_81' 'var_99' 'var_133' 'var_139'\n",
      " 'var_146' 'var_165' 'var_166']\n"
     ]
    }
   ],
   "source": [
    "k_best = list(df_train.drop(['target'], axis=1).columns[skb_.get_support()])\n",
    "print('Melhores features\\n----------------------------------------------------------------------------------\\n%s'\n",
    "      % (df_train.drop(['target'], axis=1).columns[skb_.get_support()].values))"
   ]
  },
  {
   "cell_type": "code",
   "execution_count": 15,
   "metadata": {
    "colab": {
     "base_uri": "https://localhost:8080/",
     "height": 289
    },
    "colab_type": "code",
    "id": "_NUJtWYllmgz",
    "outputId": "76ac8b2c-54b5-4797-f0e8-a21e9213fbbf"
   },
   "outputs": [
    {
     "name": "stdout",
     "output_type": "stream",
     "text": [
      "Epoch 1/8\n",
      "160000/160000 [==============================] - 7s 44us/step - loss: 0.3258 - binary_accuracy: 0.8964\n",
      "Epoch 2/8\n",
      "160000/160000 [==============================] - 7s 43us/step - loss: 0.3128 - binary_accuracy: 0.8989\n",
      "Epoch 3/8\n",
      "160000/160000 [==============================] - 7s 42us/step - loss: 0.3108 - binary_accuracy: 0.8990\n",
      "Epoch 4/8\n",
      "160000/160000 [==============================] - 7s 42us/step - loss: 0.3100 - binary_accuracy: 0.8988\n",
      "Epoch 5/8\n",
      "160000/160000 [==============================] - 7s 43us/step - loss: 0.3094 - binary_accuracy: 0.8990\n",
      "Epoch 6/8\n",
      "160000/160000 [==============================] - 7s 42us/step - loss: 0.3087 - binary_accuracy: 0.8990\n",
      "Epoch 7/8\n",
      "160000/160000 [==============================] - 7s 43us/step - loss: 0.3085 - binary_accuracy: 0.8991\n",
      "Epoch 8/8\n",
      "160000/160000 [==============================] - 7s 42us/step - loss: 0.3081 - binary_accuracy: 0.8989\n"
     ]
    }
   ],
   "source": [
    "neurons = [32, 32]\n",
    "f_activation = ['relu', 'relu', 'sigmoid']\n",
    "\n",
    "mlp = build_model(1, neurons, 10, f_activation)\n",
    "\n",
    "mlp.compile(optimizer='adam', loss='binary_crossentropy', metrics=['binary_accuracy'])\n",
    "fit_history = mlp.fit(df_train[k_best].values, df_train['target'].values, epochs=8, verbose=1)"
   ]
  },
  {
   "cell_type": "code",
   "execution_count": 16,
   "metadata": {
    "colab": {
     "base_uri": "https://localhost:8080/",
     "height": 473
    },
    "colab_type": "code",
    "id": "WXXLfNPW0AIb",
    "outputId": "783975e8-c2dc-411a-d036-651dae459e8c"
   },
   "outputs": [
    {
     "data": {
      "image/png": "[encoded data removed]",
      "text/plain": [
       "<Figure size 2448x1152 with 2 Axes>"
      ]
     },
     "metadata": {
      "tags": []
     },
     "output_type": "display_data"
    }
   ],
   "source": [
    "plot_acc_loss(fit_history)"
   ]
  },
  {
   "cell_type": "code",
   "execution_count": 17,
   "metadata": {
    "colab": {
     "base_uri": "https://localhost:8080/",
     "height": 102
    },
    "colab_type": "code",
    "id": "uzXfNZadVLeJ",
    "outputId": "d5e6ff56-b755-4d8c-831a-3b47de9bf902"
   },
   "outputs": [
    {
     "name": "stdout",
     "output_type": "stream",
     "text": [
      "Loss: 30.84%\n",
      "Accuracy: 89.91%\n",
      "Precision: 89.99%\n",
      "Recall: 99.88%\n",
      "F1 Score: 94.68%\n"
     ]
    }
   ],
   "source": [
    "y_pred_train = mlp.predict_classes(df_train[k_best].values)\n",
    "cm = confusion_matrix(df_train['target'].values, y_pred_train)\n",
    "\n",
    "loss, acc = mlp.evaluate(df_train[k_best].values, df_train['target'].values, verbose=0)\n",
    "prec, recall, f1 = return_metrics(cm)\n",
    "\n",
    "print('Loss: %.2f%s\\nAccuracy: %.2f%s\\nPrecision: %.2f%s\\nRecall: %.2f%s\\nF1 Score: %.2f%s'\n",
    "      % (loss*100, '%', acc*100, '%', prec, '%', recall, '%', f1, '%'))"
   ]
  },
  {
   "cell_type": "code",
   "execution_count": 18,
   "metadata": {
    "colab": {
     "base_uri": "https://localhost:8080/",
     "height": 51
    },
    "colab_type": "code",
    "id": "SFIHwNV6s6Cj",
    "outputId": "acea748a-1299-4dca-eae8-1d5dee7c03a7"
   },
   "outputs": [
    {
     "name": "stdout",
     "output_type": "stream",
     "text": [
      "Quantidades de 0s -> 39927\n",
      "Quantidades de 1s -> 73\n"
     ]
    }
   ],
   "source": [
    "y_pred_test = mlp.predict_classes(df_test[k_best].values)\n",
    "df_test = create_predict_dataset(df_test, y_pred_test)\n",
    "\n",
    "qtd0_pred, qtd1_pred = df_test['target'].value_counts()\n",
    "print('Quantidades de 0s -> %s\\nQuantidades de 1s -> %s' % (qtd0_pred, qtd1_pred))"
   ]
  },
  {
   "cell_type": "code",
   "execution_count": 19,
   "metadata": {
    "colab": {
     "base_uri": "https://localhost:8080/",
     "height": 136
    },
    "colab_type": "code",
    "id": "7aY-Uz6yyPJT",
    "outputId": "6375d32f-fc96-4bfb-fe23-c2fd504f6ffa"
   },
   "outputs": [
    {
     "name": "stdout",
     "output_type": "stream",
     "text": [
      "Valores absolutos\n",
      "--------------------------------\n",
      "Loss: 0.3084469366587698\n",
      "Accuracy: 0.89905\n",
      "Precision: 0.89988847956294\n",
      "Recall: 0.9987969903898307\n",
      "F1 Score: 0.9467665069310326\n"
     ]
    }
   ],
   "source": [
    "print('Valores absolutos\\n--------------------------------\\nLoss: %s\\nAccuracy: %s\\nPrecision: %s\\nRecall: %s\\nF1 Score: %s' % (loss, acc, prec/100, recall/100, f1/100))"
   ]
  }
 ],
 "metadata": {
  "colab": {
   "collapsed_sections": [],
   "name": "MLP.ipynb",
   "provenance": []
  },
  "kernelspec": {
   "display_name": "Python 3",
   "language": "python",
   "name": "python3"
  },
  "language_info": {
   "codemirror_mode": {
    "name": "ipython",
    "version": 3
   },
   "file_extension": ".py",
   "mimetype": "text/x-python",
   "name": "python",
   "nbconvert_exporter": "python",
   "pygments_lexer": "ipython3",
   "version": "3.7.3"
  }
 },
 "nbformat": 4,
 "nbformat_minor": 1
}
