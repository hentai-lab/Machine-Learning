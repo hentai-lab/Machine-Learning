{
 "cells": [
  {
   "cell_type": "markdown",
   "metadata": {},
   "source": [
    "# Integrantes do grupo\n",
    "\n",
    "Esses são os três membros do grupo. Utilizamos um *.csv* para deixar mais dinâmico a apresentação. Para isso, usamos a biblioteca **Pandas**."
   ]
  },
  {
   "cell_type": "code",
   "execution_count": 147,
   "metadata": {},
   "outputs": [
    {
     "data": {
      "text/html": [
       "<div>\n",
       "<style scoped>\n",
       "    .dataframe tbody tr th:only-of-type {\n",
       "        vertical-align: middle;\n",
       "    }\n",
       "\n",
       "    .dataframe tbody tr th {\n",
       "        vertical-align: top;\n",
       "    }\n",
       "\n",
       "    .dataframe thead th {\n",
       "        text-align: right;\n",
       "    }\n",
       "</style>\n",
       "<table border=\"1\" class=\"dataframe\">\n",
       "  <thead>\n",
       "    <tr style=\"text-align: right;\">\n",
       "      <th></th>\n",
       "      <th>Member</th>\n",
       "      <th>Hentai Lab Corp</th>\n",
       "      <th>Relevance</th>\n",
       "      <th>Semester that joined</th>\n",
       "      <th>Founder</th>\n",
       "    </tr>\n",
       "  </thead>\n",
       "  <tbody>\n",
       "    <tr>\n",
       "      <th>0</th>\n",
       "      <td>Matheus Marques Polillo</td>\n",
       "      <td>West</td>\n",
       "      <td>1.00</td>\n",
       "      <td>2</td>\n",
       "      <td>True</td>\n",
       "    </tr>\n",
       "    <tr>\n",
       "      <th>1</th>\n",
       "      <td>Thiago Aires</td>\n",
       "      <td>West</td>\n",
       "      <td>1.00</td>\n",
       "      <td>2</td>\n",
       "      <td>True</td>\n",
       "    </tr>\n",
       "    <tr>\n",
       "      <th>2</th>\n",
       "      <td>Marcello Bertero</td>\n",
       "      <td>West</td>\n",
       "      <td>0.97</td>\n",
       "      <td>3</td>\n",
       "      <td>False</td>\n",
       "    </tr>\n",
       "  </tbody>\n",
       "</table>\n",
       "</div>"
      ],
      "text/plain": [
       "                    Member Hentai Lab Corp  Relevance  Semester that joined  \\\n",
       "0  Matheus Marques Polillo            West       1.00                     2   \n",
       "1             Thiago Aires            West       1.00                     2   \n",
       "2         Marcello Bertero            West       0.97                     3   \n",
       "\n",
       "   Founder  \n",
       "0     True  \n",
       "1     True  \n",
       "2    False  "
      ]
     },
     "execution_count": 147,
     "metadata": {},
     "output_type": "execute_result"
    }
   ],
   "source": [
    "import pandas\n",
    "\n",
    "hl_data = pandas.read_csv('../../docs/hl_atividade_1.csv')\n",
    "hl_df = pandas.DataFrame(hl_data)\n",
    "hl_df[:3]"
   ]
  },
  {
   "cell_type": "markdown",
   "metadata": {},
   "source": [
    "---\n",
    "\n",
    "# Character\n",
    "\n",
    "Enquanto no R, o tipo de variável que representa dados em formato de texto é **character**, enquanto no Python é **str** (String). Usando `type()`, passando a variável que contém o dado como parâmetro do método podemos ver seu tipo."
   ]
  },
  {
   "cell_type": "code",
   "execution_count": 2,
   "metadata": {},
   "outputs": [
    {
     "data": {
      "text/plain": [
       "str"
      ]
     },
     "execution_count": 2,
     "metadata": {},
     "output_type": "execute_result"
    }
   ],
   "source": [
    "type(hl_df.loc[0, 'Member'])"
   ]
  },
  {
   "cell_type": "markdown",
   "metadata": {},
   "source": [
    "Como parâmetro do método foi passado o `dataframe.loc`, responsável por localizar certo valor em determinada linha e/ou coluna de um data frame. Neste caso, foi pego o nome do *Polillo* pra servir como valor para identificação de tipo. Para saber como fica o *output* do valor usado para identificar o tipo **str**, ele fica desta forma:"
   ]
  },
  {
   "cell_type": "code",
   "execution_count": 3,
   "metadata": {},
   "outputs": [
    {
     "data": {
      "text/plain": [
       "'Matheus Marques Polillo'"
      ]
     },
     "execution_count": 3,
     "metadata": {},
     "output_type": "execute_result"
    }
   ],
   "source": [
    "hl_df.loc[0, 'Member']"
   ]
  },
  {
   "cell_type": "markdown",
   "metadata": {},
   "source": [
    "---\n",
    "\n",
    "# Numeric\n",
    "\n",
    "Dentro do R há um tipo de variável que comporta valores numéricos com casas decimais, ou seja, valores após a vírgula, enquanto no Python este tipo (**numeric**) é representado por um valor flutuante: o **float**. Usando `type()`, passando a variável que contém o dado como parâmetro do método podemos ver seu tipo."
   ]
  },
  {
   "cell_type": "code",
   "execution_count": 4,
   "metadata": {},
   "outputs": [
    {
     "data": {
      "text/plain": [
       "numpy.float64"
      ]
     },
     "execution_count": 4,
     "metadata": {},
     "output_type": "execute_result"
    }
   ],
   "source": [
    "type(hl_df.loc[2, 'Relevance'])"
   ]
  },
  {
   "cell_type": "markdown",
   "metadata": {},
   "source": [
    "Para ficar melhor a visualização do valor **float**, observe o seguinte exemplo feito a mão:"
   ]
  },
  {
   "cell_type": "code",
   "execution_count": 5,
   "metadata": {},
   "outputs": [
    {
     "data": {
      "text/plain": [
       "float"
      ]
     },
     "execution_count": 5,
     "metadata": {},
     "output_type": "execute_result"
    }
   ],
   "source": [
    "peso = 76.2\n",
    "type(peso)"
   ]
  },
  {
   "cell_type": "markdown",
   "metadata": {},
   "source": [
    "Ambos tem valores flutuantes, observe:"
   ]
  },
  {
   "cell_type": "code",
   "execution_count": 6,
   "metadata": {},
   "outputs": [
    {
     "name": "stdout",
     "output_type": "stream",
     "text": [
      "Valor no data frame: 0.97\n",
      "Valor da variável criada a mão: 76.2\n"
     ]
    }
   ],
   "source": [
    "print('Valor no data frame:', hl_df.loc[2, 'Relevance'])\n",
    "print('Valor da variável criada a mão:', peso)"
   ]
  },
  {
   "cell_type": "markdown",
   "metadata": {},
   "source": [
    "---\n",
    "\n",
    "# Integer\n",
    "\n",
    "Diferente dos tópicos anteriores, o tipo inteiro nas duas linguagens (R e Python) é o mesmo: o **int**. Usando `type()`, passando a variável que contém o dado como parâmetro do método podemos ver seu tipo."
   ]
  },
  {
   "cell_type": "code",
   "execution_count": 7,
   "metadata": {},
   "outputs": [
    {
     "data": {
      "text/plain": [
       "numpy.int64"
      ]
     },
     "execution_count": 7,
     "metadata": {},
     "output_type": "execute_result"
    }
   ],
   "source": [
    "type(hl_df.loc[0, 'Semester that joined'])"
   ]
  },
  {
   "cell_type": "markdown",
   "metadata": {},
   "source": [
    "Assim como no exemplo anterior, se olharmos uma variável feita a mão vamos notar que têm valores parecidos, portanto o tipo continua sendo o mesmo, mudando apenas a forma de sua anotação (os valores do data frame tem o tipo representado pelo **NumPy**)!"
   ]
  },
  {
   "cell_type": "code",
   "execution_count": 8,
   "metadata": {},
   "outputs": [
    {
     "data": {
      "text/plain": [
       "int"
      ]
     },
     "execution_count": 8,
     "metadata": {},
     "output_type": "execute_result"
    }
   ],
   "source": [
    "qtdFilhos = 3\n",
    "type(qtdFilhos)"
   ]
  },
  {
   "cell_type": "code",
   "execution_count": 9,
   "metadata": {},
   "outputs": [
    {
     "name": "stdout",
     "output_type": "stream",
     "text": [
      "Valor no data frame: 2\n",
      "Valor da variável criada a mão: 3\n"
     ]
    }
   ],
   "source": [
    "print('Valor no data frame:', hl_df.loc[0, 'Semester that joined'])\n",
    "print('Valor da variável criada a mão:', qtdFilhos)"
   ]
  },
  {
   "cell_type": "markdown",
   "metadata": {},
   "source": [
    "---\n",
    "\n",
    "# Logical\n",
    "\n",
    "O valor lógico do R (**logical**) é representado no Python por **bool**. Ambos tem valores lógicos, ou seja, apenas **True** e **False**. Usando `type()`, passando a variável que contém o dado como parâmetro do método podemos ver seu tipo."
   ]
  },
  {
   "cell_type": "code",
   "execution_count": 10,
   "metadata": {},
   "outputs": [
    {
     "data": {
      "text/plain": [
       "numpy.bool_"
      ]
     },
     "execution_count": 10,
     "metadata": {},
     "output_type": "execute_result"
    }
   ],
   "source": [
    "type(hl_df.loc[0, 'Founder'])"
   ]
  },
  {
   "cell_type": "markdown",
   "metadata": {},
   "source": [
    "Seguindo os exemplos dados anteriormente, é possível mostrar que o valor do data frame e o valor feito a mão dentro da linguagem são parecidos, apenas mudando a forma como é imprimido seu tipo. Veja:"
   ]
  },
  {
   "cell_type": "code",
   "execution_count": 11,
   "metadata": {},
   "outputs": [
    {
     "data": {
      "text/plain": [
       "bool"
      ]
     },
     "execution_count": 11,
     "metadata": {},
     "output_type": "execute_result"
    }
   ],
   "source": [
    "temCarro = True\n",
    "type(temCarro)"
   ]
  },
  {
   "cell_type": "code",
   "execution_count": 12,
   "metadata": {},
   "outputs": [
    {
     "name": "stdout",
     "output_type": "stream",
     "text": [
      "Valor no data frame: True\n",
      "Valor da variável criada a mão: True\n"
     ]
    }
   ],
   "source": [
    "print('Valor no data frame:', hl_df.loc[0, 'Founder'])\n",
    "print('Valor da variável criada a mão:', temCarro)"
   ]
  },
  {
   "cell_type": "markdown",
   "metadata": {},
   "source": [
    "---\n",
    "\n",
    "# Vectors\n",
    "\n",
    "> *\"O vetor pode ser considerado uma variável multidimensional indexada, ou seja, uma variável que tem a capacidade de guardar mais de um valor simultaneamente do mesmo tipo.\"*\n",
    ">\n",
    "> -- [Renata Florence dos Santos](http://nerdsti.com.br/?author=2)\n",
    "\n",
    "Para a criação desses vetores utilizamos um laço de repetição para preencher dois vetores vazios. O primeiro vetor é preenchido através do método `vector.append()`, passando como parâmetro os dados que serão *inputados* no vetor vazio. O laço de repetição se repetirá 9 vezes. O segundo vetor sofre o mesmo processo."
   ]
  },
  {
   "cell_type": "code",
   "execution_count": 48,
   "metadata": {},
   "outputs": [
    {
     "data": {
      "text/plain": [
       "[1.0, 1.0, 0.97, 1.0, 1.0, 0.99, 0.22, 0.22, 0.58, 0.35]"
      ]
     },
     "execution_count": 48,
     "metadata": {},
     "output_type": "execute_result"
    }
   ],
   "source": [
    "hl_relevance_vector = []\n",
    "for i in range(0, 10):\n",
    "    hl_relevance_vector.append(hl_df.loc[i, 'Relevance'])\n",
    "hl_relevance_vector"
   ]
  },
  {
   "cell_type": "code",
   "execution_count": 44,
   "metadata": {},
   "outputs": [
    {
     "data": {
      "text/plain": [
       "['Matheus Marques Polillo',\n",
       " 'Thiago Aires',\n",
       " 'Marcello Bertero',\n",
       " 'Felipe Leitão',\n",
       " 'João Pedro Libonati',\n",
       " 'Bruno Seiti',\n",
       " 'Alexandre de Godoy',\n",
       " 'Bruno Paes',\n",
       " 'Miguel Kannan',\n",
       " 'Guilherme Reis']"
      ]
     },
     "execution_count": 44,
     "metadata": {},
     "output_type": "execute_result"
    }
   ],
   "source": [
    "hl_names_vector = []\n",
    "for i in range(0, 10):\n",
    "    hl_names_vector.append(hl_df.loc[i, 'Member'])\n",
    "hl_names_vector"
   ]
  },
  {
   "cell_type": "markdown",
   "metadata": {},
   "source": [
    "---\n",
    "\n",
    "# Lists\n",
    "\n",
    "> *\"Lists are just like the arrays, declared in other languages. Lists need not be homogeneous always which makes it a most powerful tool in Python. A single list may contain DataTypes like Integers, Strings, as well as Objects. Lists are also very useful for implementing stacks and queues. Lists are mutable, and hence, they can be altered even after their creation.\"*\n",
    ">\n",
    "> -- [GeeksforGeeks](https://www.geeksforgeeks.org/python-list/)\n",
    "\n",
    "Para criarmos a lista, primeiro instanciamos uma vazia e, através de um laço de repetição que se repete 9 vezes, foi preenchendo a lista através do `lista.append()`. Por se tratar de uma lista, ela comporta vários tipos de dados, portanto há um total de 3 tipos de `lista.append()`."
   ]
  },
  {
   "cell_type": "code",
   "execution_count": 38,
   "metadata": {},
   "outputs": [
    {
     "name": "stdout",
     "output_type": "stream",
     "text": [
      "['Matheus Marques Polillo', 1.0, True, 'Thiago Aires', 1.0, True, 'Marcello Bertero', 0.97, False, 'Felipe Leitão', 1.0, True, 'João Pedro Libonati', 1.0, True, 'Bruno Seiti', 0.99, False, 'Alexandre de Godoy', 0.22, False, 'Bruno Paes', 0.22, False, 'Miguel Kannan', 0.58, False, 'Guilherme Reis', 0.35, False]\n"
     ]
    }
   ],
   "source": [
    "hl_list = []\n",
    "for i in range(0, 10):\n",
    "    hl_list.append(hl_df.loc[i, 'Member'])\n",
    "    hl_list.append(hl_df.loc[i, 'Relevance'])\n",
    "    hl_list.append(hl_df.loc[i, 'Founder'])\n",
    "print(hl_list)"
   ]
  },
  {
   "cell_type": "markdown",
   "metadata": {},
   "source": [
    "---\n",
    "\n",
    "# Matrizes\n",
    "\n",
    "As **matrizes** não são mais do que vetores, contudo elas tem múltiplas dimensões, diferentemente dos vetores que é unidimensional (uma dimensão). Para montarmos uma matriz simples bidimensional iremos utilizar a biblioteca **Numpy**."
   ]
  },
  {
   "cell_type": "code",
   "execution_count": 66,
   "metadata": {},
   "outputs": [
    {
     "name": "stdout",
     "output_type": "stream",
     "text": [
      "[['Matheus Marques Polillo' 'Thiago Aires']\n",
      " ['Marcello Bertero' 'Felipe Leitão']]\n"
     ]
    }
   ],
   "source": [
    "import numpy\n",
    "\n",
    "hl_vector_1 = [hl_df.loc[0, 'Member'], hl_df.loc[1, 'Member']]\n",
    "hl_vector_2 = [hl_df.loc[2, 'Member'], hl_df.loc[3, 'Member']]\n",
    "hl_matrix = numpy.matrix([hl_vector_1, hl_vector_2])\n",
    "print(hl_matrix)"
   ]
  },
  {
   "cell_type": "markdown",
   "metadata": {},
   "source": [
    "---\n",
    "\n",
    "# Data frame\n",
    "\n",
    "> Estrutura de dados tabular bidimensional, mutável em tamanho e potencialmente heterogênea, com eixos rotulados (linhas e colunas). As operações aritméticas são alinhadas nos rótulos de linha e coluna. Pode ser pensado como um contêiner do tipo ditado para objetos **Series**. A estrutura de dados principal dos **Pandas**.\n",
    ">\n",
    "> -- [Pandas](https://pandas.pydata.org/pandas-docs/stable/reference/api/pandas.DataFrame.html)\n",
    "\n",
    "É importante ressaltar que apenas listas de tamanhos iguais podem formar um data frame!\n",
    "\n",
    "Para esta operação utilizamos a biblioteca **Pandas** no qual, através do método `pandas.DataFrame()` construímos um data frame a partir de um dicionário."
   ]
  },
  {
   "cell_type": "code",
   "execution_count": 37,
   "metadata": {},
   "outputs": [
    {
     "data": {
      "text/html": [
       "<div>\n",
       "<style scoped>\n",
       "    .dataframe tbody tr th:only-of-type {\n",
       "        vertical-align: middle;\n",
       "    }\n",
       "\n",
       "    .dataframe tbody tr th {\n",
       "        vertical-align: top;\n",
       "    }\n",
       "\n",
       "    .dataframe thead th {\n",
       "        text-align: right;\n",
       "    }\n",
       "</style>\n",
       "<table border=\"1\" class=\"dataframe\">\n",
       "  <thead>\n",
       "    <tr style=\"text-align: right;\">\n",
       "      <th></th>\n",
       "      <th>Member</th>\n",
       "      <th>Founder</th>\n",
       "    </tr>\n",
       "  </thead>\n",
       "  <tbody>\n",
       "    <tr>\n",
       "      <th>0</th>\n",
       "      <td>Matheus Marques Polillo</td>\n",
       "      <td>True</td>\n",
       "    </tr>\n",
       "    <tr>\n",
       "      <th>1</th>\n",
       "      <td>Thiago Aires</td>\n",
       "      <td>True</td>\n",
       "    </tr>\n",
       "    <tr>\n",
       "      <th>2</th>\n",
       "      <td>Marcello Bertero</td>\n",
       "      <td>False</td>\n",
       "    </tr>\n",
       "    <tr>\n",
       "      <th>3</th>\n",
       "      <td>Felipe Leitão</td>\n",
       "      <td>True</td>\n",
       "    </tr>\n",
       "    <tr>\n",
       "      <th>4</th>\n",
       "      <td>João Pedro Libonati</td>\n",
       "      <td>True</td>\n",
       "    </tr>\n",
       "    <tr>\n",
       "      <th>5</th>\n",
       "      <td>Bruno Seiti</td>\n",
       "      <td>False</td>\n",
       "    </tr>\n",
       "    <tr>\n",
       "      <th>6</th>\n",
       "      <td>Alexandre de Godoy</td>\n",
       "      <td>False</td>\n",
       "    </tr>\n",
       "    <tr>\n",
       "      <th>7</th>\n",
       "      <td>Bruno Paes</td>\n",
       "      <td>False</td>\n",
       "    </tr>\n",
       "    <tr>\n",
       "      <th>8</th>\n",
       "      <td>Miguel Kannan</td>\n",
       "      <td>False</td>\n",
       "    </tr>\n",
       "    <tr>\n",
       "      <th>9</th>\n",
       "      <td>Guilherme Reis</td>\n",
       "      <td>False</td>\n",
       "    </tr>\n",
       "  </tbody>\n",
       "</table>\n",
       "</div>"
      ],
      "text/plain": [
       "                    Member  Founder\n",
       "0  Matheus Marques Polillo     True\n",
       "1             Thiago Aires     True\n",
       "2         Marcello Bertero    False\n",
       "3            Felipe Leitão     True\n",
       "4      João Pedro Libonati     True\n",
       "5              Bruno Seiti    False\n",
       "6       Alexandre de Godoy    False\n",
       "7               Bruno Paes    False\n",
       "8            Miguel Kannan    False\n",
       "9           Guilherme Reis    False"
      ]
     },
     "execution_count": 37,
     "metadata": {},
     "output_type": "execute_result"
    }
   ],
   "source": [
    "hl_members = pandas.DataFrame({'Member': hl_df[\"Member\"], 'Founder': hl_df['Founder']})\n",
    "hl_members"
   ]
  },
  {
   "cell_type": "code",
   "execution_count": 36,
   "metadata": {},
   "outputs": [
    {
     "data": {
      "text/html": [
       "<div>\n",
       "<style scoped>\n",
       "    .dataframe tbody tr th:only-of-type {\n",
       "        vertical-align: middle;\n",
       "    }\n",
       "\n",
       "    .dataframe tbody tr th {\n",
       "        vertical-align: top;\n",
       "    }\n",
       "\n",
       "    .dataframe thead th {\n",
       "        text-align: right;\n",
       "    }\n",
       "</style>\n",
       "<table border=\"1\" class=\"dataframe\">\n",
       "  <thead>\n",
       "    <tr style=\"text-align: right;\">\n",
       "      <th></th>\n",
       "      <th>Member</th>\n",
       "      <th>Hentai Lab Corp</th>\n",
       "    </tr>\n",
       "  </thead>\n",
       "  <tbody>\n",
       "    <tr>\n",
       "      <th>0</th>\n",
       "      <td>Matheus Marques Polillo</td>\n",
       "      <td>West</td>\n",
       "    </tr>\n",
       "    <tr>\n",
       "      <th>1</th>\n",
       "      <td>Thiago Aires</td>\n",
       "      <td>West</td>\n",
       "    </tr>\n",
       "    <tr>\n",
       "      <th>2</th>\n",
       "      <td>Marcello Bertero</td>\n",
       "      <td>West</td>\n",
       "    </tr>\n",
       "    <tr>\n",
       "      <th>3</th>\n",
       "      <td>Felipe Leitão</td>\n",
       "      <td>East</td>\n",
       "    </tr>\n",
       "    <tr>\n",
       "      <th>4</th>\n",
       "      <td>João Pedro Libonati</td>\n",
       "      <td>East</td>\n",
       "    </tr>\n",
       "    <tr>\n",
       "      <th>5</th>\n",
       "      <td>Bruno Seiti</td>\n",
       "      <td>East</td>\n",
       "    </tr>\n",
       "    <tr>\n",
       "      <th>6</th>\n",
       "      <td>Alexandre de Godoy</td>\n",
       "      <td>NaN</td>\n",
       "    </tr>\n",
       "    <tr>\n",
       "      <th>7</th>\n",
       "      <td>Bruno Paes</td>\n",
       "      <td>NaN</td>\n",
       "    </tr>\n",
       "    <tr>\n",
       "      <th>8</th>\n",
       "      <td>Miguel Kannan</td>\n",
       "      <td>NaN</td>\n",
       "    </tr>\n",
       "    <tr>\n",
       "      <th>9</th>\n",
       "      <td>Guilherme Reis</td>\n",
       "      <td>NaN</td>\n",
       "    </tr>\n",
       "  </tbody>\n",
       "</table>\n",
       "</div>"
      ],
      "text/plain": [
       "                    Member Hentai Lab Corp\n",
       "0  Matheus Marques Polillo            West\n",
       "1             Thiago Aires            West\n",
       "2         Marcello Bertero            West\n",
       "3            Felipe Leitão            East\n",
       "4      João Pedro Libonati            East\n",
       "5              Bruno Seiti            East\n",
       "6       Alexandre de Godoy             NaN\n",
       "7               Bruno Paes             NaN\n",
       "8            Miguel Kannan             NaN\n",
       "9           Guilherme Reis             NaN"
      ]
     },
     "execution_count": 36,
     "metadata": {},
     "output_type": "execute_result"
    }
   ],
   "source": [
    "hl_corp = pandas.DataFrame({'Member': hl_df[\"Member\"], 'Hentai Lab Corp': hl_df['Hentai Lab Corp']})\n",
    "hl_corp"
   ]
  },
  {
   "cell_type": "markdown",
   "metadata": {},
   "source": [
    "---\n",
    "\n",
    "# Factors\n",
    "\n",
    "Os **factors** são variáveis qualitativas que podem ser incluídas nos modelos."
   ]
  },
  {
   "cell_type": "code",
   "execution_count": 63,
   "metadata": {},
   "outputs": [
    {
     "data": {
      "text/plain": [
       "0    1.00\n",
       "1    1.00\n",
       "2    0.97\n",
       "3    1.00\n",
       "4    1.00\n",
       "5    0.99\n",
       "6    0.22\n",
       "7    0.22\n",
       "8    0.58\n",
       "9    0.35\n",
       "dtype: category\n",
       "Categories (6, float64): [0.22, 0.35, 0.58, 0.97, 0.99, 1.00]"
      ]
     },
     "execution_count": 63,
     "metadata": {},
     "output_type": "execute_result"
    }
   ],
   "source": [
    "hl_relevance = []\n",
    "for i in range(0, 10):\n",
    "    hl_relevance.append(hl_df.loc[i,'Relevance'])\n",
    "hl_relevance_factor = pandas.Series(hl_relevance, dtype='category')\n",
    "hl_relevance_factor"
   ]
  },
  {
   "cell_type": "code",
   "execution_count": 62,
   "metadata": {},
   "outputs": [
    {
     "data": {
      "text/plain": [
       "0     True\n",
       "1     True\n",
       "2    False\n",
       "3     True\n",
       "4     True\n",
       "5    False\n",
       "6    False\n",
       "7    False\n",
       "8    False\n",
       "9    False\n",
       "dtype: category\n",
       "Categories (2, object): [False, True]"
      ]
     },
     "execution_count": 62,
     "metadata": {},
     "output_type": "execute_result"
    }
   ],
   "source": [
    "hl_founder = []\n",
    "for i in range(0, 10):\n",
    "    hl_founder.append(hl_df.loc[i,'Founder'])\n",
    "hl_founder_factor = pandas.Series(hl_founder, dtype='category')\n",
    "hl_founder_factor"
   ]
  },
  {
   "cell_type": "markdown",
   "metadata": {},
   "source": [
    "---\n",
    "\n",
    "# Missing values\n",
    "\n",
    "Enquanto no R os campos que não há valor informado são chamados de **NaN**, no Python são chamados de **None**. Montamos um vetor com alguns campos com valores \"não-respostas\", ou seja, **None** para mostrarmos como seria."
   ]
  },
  {
   "cell_type": "code",
   "execution_count": 101,
   "metadata": {},
   "outputs": [
    {
     "data": {
      "text/plain": [
       "[12.3, 19.0, 65.14, None, None, 1.3, None]"
      ]
     },
     "execution_count": 101,
     "metadata": {},
     "output_type": "execute_result"
    }
   ],
   "source": [
    "none_vector = [12.3, 19.0, 65.14, None, None, 1.3, None]\n",
    "none_vector"
   ]
  },
  {
   "cell_type": "markdown",
   "metadata": {},
   "source": [
    "Contudo, o Python não tem uma função nativa para saber se um valor é **None** ou não, portanto cabe a nós desenvolver esta função ou utilizar uma biblioteca que já tenha ela, que no caso é o **NumPy**."
   ]
  },
  {
   "cell_type": "code",
   "execution_count": 79,
   "metadata": {},
   "outputs": [
    {
     "ename": "TypeError",
     "evalue": "ufunc 'isnan' not supported for the input types, and the inputs could not be safely coerced to any supported types according to the casting rule ''safe''",
     "output_type": "error",
     "traceback": [
      "\u001b[1;31m---------------------------------------------------------------------------\u001b[0m",
      "\u001b[1;31mTypeError\u001b[0m                                 Traceback (most recent call last)",
      "\u001b[1;32m<ipython-input-79-db8b7ee02edd>\u001b[0m in \u001b[0;36m<module>\u001b[1;34m\u001b[0m\n\u001b[1;32m----> 1\u001b[1;33m \u001b[0mprint\u001b[0m\u001b[1;33m(\u001b[0m\u001b[0mnumpy\u001b[0m\u001b[1;33m.\u001b[0m\u001b[0misnan\u001b[0m\u001b[1;33m(\u001b[0m\u001b[0mnone_vector\u001b[0m\u001b[1;33m)\u001b[0m\u001b[1;33m)\u001b[0m\u001b[1;33m\u001b[0m\u001b[1;33m\u001b[0m\u001b[0m\n\u001b[0m",
      "\u001b[1;31mTypeError\u001b[0m: ufunc 'isnan' not supported for the input types, and the inputs could not be safely coerced to any supported types according to the casting rule ''safe''"
     ]
    }
   ],
   "source": [
    "print(numpy.isnan(none_vector))"
   ]
  },
  {
   "cell_type": "markdown",
   "metadata": {},
   "source": [
    "Mas, como mostra o erro acima, é necessário ter consciência de que o método `numpy.isnan()` do **NumPy** é limitado ao seu próprio valor nulo. Portanto, faremos das duas formas: construíremos um método para verificar o valor **None** e usaremos também o método `numpy.isnan()`.\n",
    "\n",
    "Começando pelo método do **NumPy**, vamos ajustar o vetor que criamos."
   ]
  },
  {
   "cell_type": "code",
   "execution_count": 97,
   "metadata": {},
   "outputs": [
    {
     "data": {
      "text/plain": [
       "[12.3, 19.0, 65.14, nan, nan, 1.3, nan]"
      ]
     },
     "execution_count": 97,
     "metadata": {},
     "output_type": "execute_result"
    }
   ],
   "source": [
    "none_vector = [12.3, 19.0, 65.14, numpy.nan, numpy.nan, 1.3, numpy.nan]\n",
    "none_vector"
   ]
  },
  {
   "cell_type": "code",
   "execution_count": 98,
   "metadata": {},
   "outputs": [
    {
     "name": "stdout",
     "output_type": "stream",
     "text": [
      "[False False False  True  True False  True]\n"
     ]
    }
   ],
   "source": [
    "print(numpy.isnan(none_vector))"
   ]
  },
  {
   "cell_type": "markdown",
   "metadata": {},
   "source": [
    "Aí está, o **NumPy** consegue identificar os valores nulos quando utilizamos o método da própria biblioteca para gerar seus próprios valores nulos.\n",
    "\n",
    "Agora, vamos criar nosso próprio método de verificação."
   ]
  },
  {
   "cell_type": "code",
   "execution_count": 121,
   "metadata": {},
   "outputs": [],
   "source": [
    "def is_none(v):\n",
    "    none_vector = []\n",
    "    for i in v:\n",
    "        if i != None:\n",
    "            none_vector.append(False)\n",
    "        else:\n",
    "            none_vector.append(True)\n",
    "    return none_vector"
   ]
  },
  {
   "cell_type": "markdown",
   "metadata": {},
   "source": [
    "Este é o método `is_none()`. Ele recebe como parâmetro um vetor. Dentro deste método há um vetor que receberá valores booleanos baseado na verificação do método. Ele verificará, em cada posição do vetor, onde há valor **None** e onde não há. No fim, ele retorna o vetor com os valores booleanos."
   ]
  },
  {
   "cell_type": "code",
   "execution_count": 123,
   "metadata": {},
   "outputs": [
    {
     "data": {
      "text/plain": [
       "[False, False, False, True, True, False, True]"
      ]
     },
     "execution_count": 123,
     "metadata": {},
     "output_type": "execute_result"
    }
   ],
   "source": [
    "is_none(none_vector)"
   ]
  },
  {
   "cell_type": "markdown",
   "metadata": {},
   "source": [
    "---\n",
    "\n",
    "# Subsetting\n",
    "\n",
    "**Subsetting** é a capacidade do Python de retornar um ou mais valores baseado no número correspondente a posição do vetor. Ou seja, valor(es) correspondente(s) a posição 0 (no R é 1) de um certo vetor serão retornadas caso o programa seja ordenado a tal. Um exemplo disso é o que foi feito na apresentação dos integrantes do grupo."
   ]
  },
  {
   "cell_type": "code",
   "execution_count": 124,
   "metadata": {},
   "outputs": [
    {
     "data": {
      "text/html": [
       "<div>\n",
       "<style scoped>\n",
       "    .dataframe tbody tr th:only-of-type {\n",
       "        vertical-align: middle;\n",
       "    }\n",
       "\n",
       "    .dataframe tbody tr th {\n",
       "        vertical-align: top;\n",
       "    }\n",
       "\n",
       "    .dataframe thead th {\n",
       "        text-align: right;\n",
       "    }\n",
       "</style>\n",
       "<table border=\"1\" class=\"dataframe\">\n",
       "  <thead>\n",
       "    <tr style=\"text-align: right;\">\n",
       "      <th></th>\n",
       "      <th>Member</th>\n",
       "      <th>Hentai Lab Corp</th>\n",
       "      <th>Relevance</th>\n",
       "      <th>Semester that joined</th>\n",
       "      <th>Founder</th>\n",
       "    </tr>\n",
       "  </thead>\n",
       "  <tbody>\n",
       "    <tr>\n",
       "      <th>0</th>\n",
       "      <td>Matheus Marques Polillo</td>\n",
       "      <td>West</td>\n",
       "      <td>1.00</td>\n",
       "      <td>2</td>\n",
       "      <td>True</td>\n",
       "    </tr>\n",
       "    <tr>\n",
       "      <th>1</th>\n",
       "      <td>Thiago Aires</td>\n",
       "      <td>West</td>\n",
       "      <td>1.00</td>\n",
       "      <td>2</td>\n",
       "      <td>True</td>\n",
       "    </tr>\n",
       "    <tr>\n",
       "      <th>2</th>\n",
       "      <td>Marcello Bertero</td>\n",
       "      <td>West</td>\n",
       "      <td>0.97</td>\n",
       "      <td>3</td>\n",
       "      <td>False</td>\n",
       "    </tr>\n",
       "  </tbody>\n",
       "</table>\n",
       "</div>"
      ],
      "text/plain": [
       "                    Member Hentai Lab Corp  Relevance  Semester that joined  \\\n",
       "0  Matheus Marques Polillo            West       1.00                     2   \n",
       "1             Thiago Aires            West       1.00                     2   \n",
       "2         Marcello Bertero            West       0.97                     3   \n",
       "\n",
       "   Founder  \n",
       "0     True  \n",
       "1     True  \n",
       "2    False  "
      ]
     },
     "execution_count": 124,
     "metadata": {},
     "output_type": "execute_result"
    }
   ],
   "source": [
    "hl_df[:3]"
   ]
  },
  {
   "cell_type": "markdown",
   "metadata": {},
   "source": [
    "Aqui é selecionado apenas os três primeiros valores do data frame. Vamos usar o vetor de *members* criado anteriormente no tópico de vetores para aplicar o **subsetting** nele."
   ]
  },
  {
   "cell_type": "code",
   "execution_count": 137,
   "metadata": {},
   "outputs": [
    {
     "name": "stdout",
     "output_type": "stream",
     "text": [
      "Matheus Marques Polillo\n",
      "\n",
      "=======================\n",
      "\n",
      "['Thiago Aires', 'Marcello Bertero']\n",
      "\n",
      "=======================\n",
      "\n",
      "['Matheus Marques Polillo', 'Thiago Aires', 'Marcello Bertero', 'Felipe Leitão', 'João Pedro Libonati', 'Bruno Seiti', 'Alexandre de Godoy', 'Bruno Paes', 'Miguel Kannan', 'Guilherme Reis']\n"
     ]
    }
   ],
   "source": [
    "print(hl_names_vector[0])\n",
    "print(\"\\n=======================\\n\")\n",
    "print(hl_names_vector[1:3])\n",
    "print(\"\\n=======================\\n\")\n",
    "print(hl_names_vector[:10])"
   ]
  },
  {
   "cell_type": "markdown",
   "metadata": {},
   "source": [
    "Agora, vamos utilizar o data frame inteiro para podermos ver como o **subsetting** se comporta quando aplica a ele."
   ]
  },
  {
   "cell_type": "code",
   "execution_count": 138,
   "metadata": {},
   "outputs": [
    {
     "name": "stdout",
     "output_type": "stream",
     "text": [
      " Matheus Marques Polillo\n",
      "            Thiago Aires\n",
      "        Marcello Bertero\n",
      "           Felipe Leitão\n",
      "     João Pedro Libonati\n",
      "             Bruno Seiti\n",
      "      Alexandre de Godoy\n",
      "              Bruno Paes\n",
      "           Miguel Kannan\n",
      "          Guilherme Reis\n"
     ]
    }
   ],
   "source": [
    "print(hl_df['Member'].to_string(index=False))"
   ]
  },
  {
   "cell_type": "markdown",
   "metadata": {},
   "source": [
    "---\n",
    "\n",
    "# Logical subsetting\n",
    "\n",
    "Funciona da mesma forma que o **subsetting** apresentado anteriormente, porém ele trabalha com valores booleanos que são resultados de verificações de existência feitas pelo Python. Para entender melhor, observe:"
   ]
  },
  {
   "cell_type": "code",
   "execution_count": 141,
   "metadata": {},
   "outputs": [
    {
     "data": {
      "text/html": [
       "<div>\n",
       "<style scoped>\n",
       "    .dataframe tbody tr th:only-of-type {\n",
       "        vertical-align: middle;\n",
       "    }\n",
       "\n",
       "    .dataframe tbody tr th {\n",
       "        vertical-align: top;\n",
       "    }\n",
       "\n",
       "    .dataframe thead th {\n",
       "        text-align: right;\n",
       "    }\n",
       "</style>\n",
       "<table border=\"1\" class=\"dataframe\">\n",
       "  <thead>\n",
       "    <tr style=\"text-align: right;\">\n",
       "      <th></th>\n",
       "      <th>Member</th>\n",
       "      <th>Hentai Lab Corp</th>\n",
       "      <th>Relevance</th>\n",
       "      <th>Semester that joined</th>\n",
       "      <th>Founder</th>\n",
       "    </tr>\n",
       "  </thead>\n",
       "  <tbody>\n",
       "    <tr>\n",
       "      <th>0</th>\n",
       "      <td>Matheus Marques Polillo</td>\n",
       "      <td>West</td>\n",
       "      <td>1.0</td>\n",
       "      <td>2</td>\n",
       "      <td>True</td>\n",
       "    </tr>\n",
       "  </tbody>\n",
       "</table>\n",
       "</div>"
      ],
      "text/plain": [
       "                    Member Hentai Lab Corp  Relevance  Semester that joined  \\\n",
       "0  Matheus Marques Polillo            West        1.0                     2   \n",
       "\n",
       "   Founder  \n",
       "0     True  "
      ]
     },
     "execution_count": 141,
     "metadata": {},
     "output_type": "execute_result"
    }
   ],
   "source": [
    "is_polillo = hl_df.Member == \"Matheus Marques Polillo\"\n",
    "hl_df.loc[is_polillo]"
   ]
  },
  {
   "cell_type": "markdown",
   "metadata": {},
   "source": [
    "Como pode ser observado acima, a variável `is_polillo` carrega um vetor de valores booleanos, resultantes da verificação feita pelo restante da linha de código, analisando se há ou não o valor *Matheus Marques Polillo* dentro da coluna *Members* do data frame. No meio do vetor desta variável deverá haver um **True** responsável por avisar em que índice o valor *Matheus Marques Polillo* se encontra para que assim o `dataframe.loc[]` funcione. Veja o valor da variável:"
   ]
  },
  {
   "cell_type": "code",
   "execution_count": 144,
   "metadata": {},
   "outputs": [
    {
     "data": {
      "text/plain": [
       "0     True\n",
       "1    False\n",
       "2    False\n",
       "3    False\n",
       "4    False\n",
       "5    False\n",
       "6    False\n",
       "7    False\n",
       "8    False\n",
       "9    False\n",
       "Name: Member, dtype: bool"
      ]
     },
     "execution_count": 144,
     "metadata": {},
     "output_type": "execute_result"
    }
   ],
   "source": [
    "is_polillo"
   ]
  },
  {
   "cell_type": "markdown",
   "metadata": {},
   "source": [
    "Vamos fazer de outra forma. Desta vez, coletaremos apenas os membros fundadores do grupo, ou seja, que tem o valor booleano **True** na coluna *Founder*."
   ]
  },
  {
   "cell_type": "code",
   "execution_count": 145,
   "metadata": {},
   "outputs": [
    {
     "data": {
      "text/html": [
       "<div>\n",
       "<style scoped>\n",
       "    .dataframe tbody tr th:only-of-type {\n",
       "        vertical-align: middle;\n",
       "    }\n",
       "\n",
       "    .dataframe tbody tr th {\n",
       "        vertical-align: top;\n",
       "    }\n",
       "\n",
       "    .dataframe thead th {\n",
       "        text-align: right;\n",
       "    }\n",
       "</style>\n",
       "<table border=\"1\" class=\"dataframe\">\n",
       "  <thead>\n",
       "    <tr style=\"text-align: right;\">\n",
       "      <th></th>\n",
       "      <th>Member</th>\n",
       "      <th>Hentai Lab Corp</th>\n",
       "      <th>Relevance</th>\n",
       "      <th>Semester that joined</th>\n",
       "      <th>Founder</th>\n",
       "    </tr>\n",
       "  </thead>\n",
       "  <tbody>\n",
       "    <tr>\n",
       "      <th>0</th>\n",
       "      <td>Matheus Marques Polillo</td>\n",
       "      <td>West</td>\n",
       "      <td>1.0</td>\n",
       "      <td>2</td>\n",
       "      <td>True</td>\n",
       "    </tr>\n",
       "    <tr>\n",
       "      <th>1</th>\n",
       "      <td>Thiago Aires</td>\n",
       "      <td>West</td>\n",
       "      <td>1.0</td>\n",
       "      <td>2</td>\n",
       "      <td>True</td>\n",
       "    </tr>\n",
       "    <tr>\n",
       "      <th>3</th>\n",
       "      <td>Felipe Leitão</td>\n",
       "      <td>East</td>\n",
       "      <td>1.0</td>\n",
       "      <td>2</td>\n",
       "      <td>True</td>\n",
       "    </tr>\n",
       "    <tr>\n",
       "      <th>4</th>\n",
       "      <td>João Pedro Libonati</td>\n",
       "      <td>East</td>\n",
       "      <td>1.0</td>\n",
       "      <td>2</td>\n",
       "      <td>True</td>\n",
       "    </tr>\n",
       "  </tbody>\n",
       "</table>\n",
       "</div>"
      ],
      "text/plain": [
       "                    Member Hentai Lab Corp  Relevance  Semester that joined  \\\n",
       "0  Matheus Marques Polillo            West        1.0                     2   \n",
       "1             Thiago Aires            West        1.0                     2   \n",
       "3            Felipe Leitão            East        1.0                     2   \n",
       "4      João Pedro Libonati            East        1.0                     2   \n",
       "\n",
       "   Founder  \n",
       "0     True  \n",
       "1     True  \n",
       "3     True  \n",
       "4     True  "
      ]
     },
     "execution_count": 145,
     "metadata": {},
     "output_type": "execute_result"
    }
   ],
   "source": [
    "is_founder = hl_df.Founder == True\n",
    "hl_df.loc[is_founder]"
   ]
  },
  {
   "cell_type": "code",
   "execution_count": 148,
   "metadata": {},
   "outputs": [
    {
     "data": {
      "text/plain": [
       "0     True\n",
       "1     True\n",
       "2    False\n",
       "3     True\n",
       "4     True\n",
       "5    False\n",
       "6    False\n",
       "7    False\n",
       "8    False\n",
       "9    False\n",
       "Name: Founder, dtype: bool"
      ]
     },
     "execution_count": 148,
     "metadata": {},
     "output_type": "execute_result"
    }
   ],
   "source": [
    "is_founder"
   ]
  },
  {
   "cell_type": "markdown",
   "metadata": {},
   "source": [
    "---\n",
    "\n",
    "# Merge( )\n",
    "\n",
    "Este método pertence a biblioteca **Pandas**, responsável por mesclar dois data frames. Função bastante parecida com as funções de *join* que usamos em SQL.\n",
    "\n",
    "Para fazermos um `merge()` que funcione com excelência vamos usar dois data frames que tenham uma coluna e seus valores parecidos para que o método identifique quais são os valores iguais e, através disso, faça o *merge* com os valores pertencentes as linhas corretas. Para isso, vamos usar um data frame que irá coletar o nome dos membros e se ele é ou não fundador, e outro data frame que irá coletar o nome dos membros (pra fazer a associação com o outro data frame) e de qual corporação do HL ele pertence. Observe:"
   ]
  },
  {
   "cell_type": "code",
   "execution_count": 152,
   "metadata": {},
   "outputs": [
    {
     "data": {
      "text/html": [
       "<div>\n",
       "<style scoped>\n",
       "    .dataframe tbody tr th:only-of-type {\n",
       "        vertical-align: middle;\n",
       "    }\n",
       "\n",
       "    .dataframe tbody tr th {\n",
       "        vertical-align: top;\n",
       "    }\n",
       "\n",
       "    .dataframe thead th {\n",
       "        text-align: right;\n",
       "    }\n",
       "</style>\n",
       "<table border=\"1\" class=\"dataframe\">\n",
       "  <thead>\n",
       "    <tr style=\"text-align: right;\">\n",
       "      <th></th>\n",
       "      <th>Member</th>\n",
       "      <th>Hentai Lab Corp</th>\n",
       "      <th>Founder</th>\n",
       "    </tr>\n",
       "  </thead>\n",
       "  <tbody>\n",
       "    <tr>\n",
       "      <th>0</th>\n",
       "      <td>Matheus Marques Polillo</td>\n",
       "      <td>West</td>\n",
       "      <td>True</td>\n",
       "    </tr>\n",
       "    <tr>\n",
       "      <th>1</th>\n",
       "      <td>Thiago Aires</td>\n",
       "      <td>West</td>\n",
       "      <td>True</td>\n",
       "    </tr>\n",
       "    <tr>\n",
       "      <th>2</th>\n",
       "      <td>Marcello Bertero</td>\n",
       "      <td>West</td>\n",
       "      <td>False</td>\n",
       "    </tr>\n",
       "    <tr>\n",
       "      <th>3</th>\n",
       "      <td>Felipe Leitão</td>\n",
       "      <td>East</td>\n",
       "      <td>True</td>\n",
       "    </tr>\n",
       "    <tr>\n",
       "      <th>4</th>\n",
       "      <td>João Pedro Libonati</td>\n",
       "      <td>East</td>\n",
       "      <td>True</td>\n",
       "    </tr>\n",
       "    <tr>\n",
       "      <th>5</th>\n",
       "      <td>Bruno Seiti</td>\n",
       "      <td>East</td>\n",
       "      <td>False</td>\n",
       "    </tr>\n",
       "    <tr>\n",
       "      <th>6</th>\n",
       "      <td>Alexandre de Godoy</td>\n",
       "      <td>NaN</td>\n",
       "      <td>False</td>\n",
       "    </tr>\n",
       "    <tr>\n",
       "      <th>7</th>\n",
       "      <td>Bruno Paes</td>\n",
       "      <td>NaN</td>\n",
       "      <td>False</td>\n",
       "    </tr>\n",
       "    <tr>\n",
       "      <th>8</th>\n",
       "      <td>Miguel Kannan</td>\n",
       "      <td>NaN</td>\n",
       "      <td>False</td>\n",
       "    </tr>\n",
       "    <tr>\n",
       "      <th>9</th>\n",
       "      <td>Guilherme Reis</td>\n",
       "      <td>NaN</td>\n",
       "      <td>False</td>\n",
       "    </tr>\n",
       "  </tbody>\n",
       "</table>\n",
       "</div>"
      ],
      "text/plain": [
       "                    Member Hentai Lab Corp  Founder\n",
       "0  Matheus Marques Polillo            West     True\n",
       "1             Thiago Aires            West     True\n",
       "2         Marcello Bertero            West    False\n",
       "3            Felipe Leitão            East     True\n",
       "4      João Pedro Libonati            East     True\n",
       "5              Bruno Seiti            East    False\n",
       "6       Alexandre de Godoy             NaN    False\n",
       "7               Bruno Paes             NaN    False\n",
       "8            Miguel Kannan             NaN    False\n",
       "9           Guilherme Reis             NaN    False"
      ]
     },
     "execution_count": 152,
     "metadata": {},
     "output_type": "execute_result"
    }
   ],
   "source": [
    "hl_corp_df = pandas.DataFrame({'Member': hl_df[\"Member\"], 'Hentai Lab Corp': hl_df['Hentai Lab Corp']})\n",
    "hl_member_df = pandas.DataFrame({'Member': hl_df[\"Member\"], 'Founder': hl_df['Founder']})\n",
    "hl_merge_df = pandas.merge(hl_corp_df, hl_member_df)\n",
    "\n",
    "hl_merge_df"
   ]
  }
 ],
 "metadata": {
  "kernelspec": {
   "display_name": "Python 3",
   "language": "python",
   "name": "python3"
  },
  "language_info": {
   "codemirror_mode": {
    "name": "ipython",
    "version": 3
   },
   "file_extension": ".py",
   "mimetype": "text/x-python",
   "name": "python",
   "nbconvert_exporter": "python",
   "pygments_lexer": "ipython3",
   "version": "3.7.3"
  }
 },
 "nbformat": 4,
 "nbformat_minor": 2
}
