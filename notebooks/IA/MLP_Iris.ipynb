{
  "nbformat": 4,
  "nbformat_minor": 0,
  "metadata": {
    "colab": {
      "name": "MLP_Iris.ipynb",
      "provenance": [],
      "collapsed_sections": []
    },
    "kernelspec": {
      "name": "python3",
      "display_name": "Python 3"
    }
  },
  "cells": [
    {
      "cell_type": "code",
      "metadata": {
        "id": "muMs8kQLUDOz",
        "colab_type": "code",
        "colab": {
          "base_uri": "https://localhost:8080/",
          "height": 80
        },
        "outputId": "26ac8a33-0ebf-49ac-bca6-40c282359adb"
      },
      "source": [
        "import numpy\n",
        "import pandas\n",
        "import tensorflow.compat.v1\n",
        "from sklearn.preprocessing import LabelEncoder\n",
        "from sklearn.model_selection import train_test_split\n",
        "from keras.utils import np_utils\n",
        "from keras.models import Sequential\n",
        "from keras.layers import Dense"
      ],
      "execution_count": 1,
      "outputs": [
        {
          "output_type": "display_data",
          "data": {
            "text/html": [
              "<p style=\"color: red;\">\n",
              "The default version of TensorFlow in Colab will soon switch to TensorFlow 2.x.<br>\n",
              "We recommend you <a href=\"https://www.tensorflow.org/guide/migrate\" target=\"_blank\">upgrade</a> now \n",
              "or ensure your notebook will continue to use TensorFlow 1.x via the <code>%tensorflow_version 1.x</code> magic:\n",
              "<a href=\"https://colab.research.google.com/notebooks/tensorflow_version.ipynb\" target=\"_blank\">more info</a>.</p>\n"
            ],
            "text/plain": [
              "<IPython.core.display.HTML object>"
            ]
          },
          "metadata": {
            "tags": []
          }
        },
        {
          "output_type": "stream",
          "text": [
            "Using TensorFlow backend.\n"
          ],
          "name": "stderr"
        }
      ]
    },
    {
      "cell_type": "code",
      "metadata": {
        "id": "Nv1c7vdx3UKG",
        "colab_type": "code",
        "outputId": "ba0775b0-3be5-4ef6-8616-6139be5a100a",
        "colab": {
          "base_uri": "https://localhost:8080/",
          "height": 142
        }
      },
      "source": [
        "data = pandas.read_csv(\"https://raw.githubusercontent.com/matheuspolillo/K-Network/master/data/iris.csv\")\n",
        "\n",
        "data_to_view = [\n",
        "    [data.loc[0, 'sepal_length'], data.loc[0, 'sepal_width'], data.loc[0, 'petal_length'], data.loc[0, 'petal_width'], data.loc[0, 'species']],\n",
        "    [data.loc[50, 'sepal_length'], data.loc[50, 'sepal_width'], data.loc[50, 'petal_length'], data.loc[50, 'petal_width'], data.loc[50, 'species']],\n",
        "    [data.loc[100, 'sepal_length'], data.loc[100, 'sepal_width'], data.loc[100, 'petal_length'], data.loc[100, 'petal_width'], data.loc[100, 'species']]\n",
        "]\n",
        "data_to_view = pandas.DataFrame(data_to_view, columns=['sepal_length', 'sepal_width', 'petal_length', 'petal_width', 'species'])\n",
        "data_to_view"
      ],
      "execution_count": 2,
      "outputs": [
        {
          "output_type": "execute_result",
          "data": {
            "text/html": [
              "<div>\n",
              "<style scoped>\n",
              "    .dataframe tbody tr th:only-of-type {\n",
              "        vertical-align: middle;\n",
              "    }\n",
              "\n",
              "    .dataframe tbody tr th {\n",
              "        vertical-align: top;\n",
              "    }\n",
              "\n",
              "    .dataframe thead th {\n",
              "        text-align: right;\n",
              "    }\n",
              "</style>\n",
              "<table border=\"1\" class=\"dataframe\">\n",
              "  <thead>\n",
              "    <tr style=\"text-align: right;\">\n",
              "      <th></th>\n",
              "      <th>sepal_length</th>\n",
              "      <th>sepal_width</th>\n",
              "      <th>petal_length</th>\n",
              "      <th>petal_width</th>\n",
              "      <th>species</th>\n",
              "    </tr>\n",
              "  </thead>\n",
              "  <tbody>\n",
              "    <tr>\n",
              "      <th>0</th>\n",
              "      <td>5.1</td>\n",
              "      <td>3.5</td>\n",
              "      <td>1.4</td>\n",
              "      <td>0.2</td>\n",
              "      <td>setosa</td>\n",
              "    </tr>\n",
              "    <tr>\n",
              "      <th>1</th>\n",
              "      <td>7.0</td>\n",
              "      <td>3.2</td>\n",
              "      <td>4.7</td>\n",
              "      <td>1.4</td>\n",
              "      <td>versicolor</td>\n",
              "    </tr>\n",
              "    <tr>\n",
              "      <th>2</th>\n",
              "      <td>6.3</td>\n",
              "      <td>3.3</td>\n",
              "      <td>6.0</td>\n",
              "      <td>2.5</td>\n",
              "      <td>virginica</td>\n",
              "    </tr>\n",
              "  </tbody>\n",
              "</table>\n",
              "</div>"
            ],
            "text/plain": [
              "   sepal_length  sepal_width  petal_length  petal_width     species\n",
              "0           5.1          3.5           1.4          0.2      setosa\n",
              "1           7.0          3.2           4.7          1.4  versicolor\n",
              "2           6.3          3.3           6.0          2.5   virginica"
            ]
          },
          "metadata": {
            "tags": []
          },
          "execution_count": 2
        }
      ]
    },
    {
      "cell_type": "code",
      "metadata": {
        "id": "j6FEpBQM3673",
        "colab_type": "code",
        "outputId": "5c0f457a-bab0-4532-ef8f-e66964a4c169",
        "colab": {
          "base_uri": "https://localhost:8080/",
          "height": 142
        }
      },
      "source": [
        "data.columns = ['Sepal_Length', 'Sepal_Width', 'Petal_Length', 'Petal_Width', 'Target']\n",
        "data['Target'] = LabelEncoder().fit_transform(data['Target'].values)\n",
        "\n",
        "data_to_view = [\n",
        "    [data.loc[0, 'Sepal_Length'], data.loc[0, 'Sepal_Width'], data.loc[0, 'Petal_Length'], data.loc[0, 'Petal_Width'], data.loc[0, 'Target']],\n",
        "    [data.loc[50, 'Sepal_Length'], data.loc[50, 'Sepal_Width'], data.loc[50, 'Petal_Length'], data.loc[50, 'Petal_Width'], data.loc[50, 'Target']],\n",
        "    [data.loc[100, 'Sepal_Length'], data.loc[100, 'Sepal_Width'], data.loc[100, 'Petal_Length'], data.loc[100, 'Petal_Width'], data.loc[100, 'Target']]\n",
        "]\n",
        "data_to_view = pandas.DataFrame(data_to_view, columns=['Sepal_Length', 'Sepal_Width', 'Petal_Length', 'Petal_Width', 'Target'])\n",
        "data_to_view"
      ],
      "execution_count": 3,
      "outputs": [
        {
          "output_type": "execute_result",
          "data": {
            "text/html": [
              "<div>\n",
              "<style scoped>\n",
              "    .dataframe tbody tr th:only-of-type {\n",
              "        vertical-align: middle;\n",
              "    }\n",
              "\n",
              "    .dataframe tbody tr th {\n",
              "        vertical-align: top;\n",
              "    }\n",
              "\n",
              "    .dataframe thead th {\n",
              "        text-align: right;\n",
              "    }\n",
              "</style>\n",
              "<table border=\"1\" class=\"dataframe\">\n",
              "  <thead>\n",
              "    <tr style=\"text-align: right;\">\n",
              "      <th></th>\n",
              "      <th>Sepal_Length</th>\n",
              "      <th>Sepal_Width</th>\n",
              "      <th>Petal_Length</th>\n",
              "      <th>Petal_Width</th>\n",
              "      <th>Target</th>\n",
              "    </tr>\n",
              "  </thead>\n",
              "  <tbody>\n",
              "    <tr>\n",
              "      <th>0</th>\n",
              "      <td>5.1</td>\n",
              "      <td>3.5</td>\n",
              "      <td>1.4</td>\n",
              "      <td>0.2</td>\n",
              "      <td>0</td>\n",
              "    </tr>\n",
              "    <tr>\n",
              "      <th>1</th>\n",
              "      <td>7.0</td>\n",
              "      <td>3.2</td>\n",
              "      <td>4.7</td>\n",
              "      <td>1.4</td>\n",
              "      <td>1</td>\n",
              "    </tr>\n",
              "    <tr>\n",
              "      <th>2</th>\n",
              "      <td>6.3</td>\n",
              "      <td>3.3</td>\n",
              "      <td>6.0</td>\n",
              "      <td>2.5</td>\n",
              "      <td>2</td>\n",
              "    </tr>\n",
              "  </tbody>\n",
              "</table>\n",
              "</div>"
            ],
            "text/plain": [
              "   Sepal_Length  Sepal_Width  Petal_Length  Petal_Width  Target\n",
              "0           5.1          3.5           1.4          0.2       0\n",
              "1           7.0          3.2           4.7          1.4       1\n",
              "2           6.3          3.3           6.0          2.5       2"
            ]
          },
          "metadata": {
            "tags": []
          },
          "execution_count": 3
        }
      ]
    },
    {
      "cell_type": "code",
      "metadata": {
        "id": "Cn-SqzikGxh1",
        "colab_type": "code",
        "outputId": "8dccfbb2-be9a-4a11-841c-bd3ce371c691",
        "colab": {
          "base_uri": "https://localhost:8080/",
          "height": 261
        }
      },
      "source": [
        "target_categorical = np_utils.to_categorical(data['Target'].values)\n",
        "train, test = train_test_split(data, test_size=0.2, random_state=0)\n",
        "print(\n",
        "    '\\n' + 'Valores categóricos' + '\\n--------------------\\n' + str(target_categorical[0]) + ' => Setosa\\n' + str(target_categorical[50]) +\n",
        "    ' => Versicolor\\n' + str(target_categorical[100]) + ' => Virginica\\n\\n'\n",
        ")\n",
        "\n",
        "data_to_view = [\n",
        "    [data.loc[0, 'Sepal_Length'], data.loc[0, 'Sepal_Width'], data.loc[0, 'Petal_Length'], data.loc[0, 'Petal_Width'], '1 0 0'],\n",
        "    [data.loc[50, 'Sepal_Length'], data.loc[50, 'Sepal_Width'], data.loc[50, 'Petal_Length'], data.loc[50, 'Petal_Width'], '0 1 0'],\n",
        "    [data.loc[100, 'Sepal_Length'], data.loc[100, 'Sepal_Width'], data.loc[100, 'Petal_Length'], data.loc[100, 'Petal_Width'], '0 0 1']\n",
        "]\n",
        "data_to_view = pandas.DataFrame(data_to_view, columns=['Sepal_Length', 'Sepal_Width', 'Petal_Length', 'Petal_Width', 'Target'])\n",
        "data_to_view"
      ],
      "execution_count": 22,
      "outputs": [
        {
          "output_type": "stream",
          "text": [
            "Valores categóricos\n",
            "--------------------\n",
            "[1. 0. 0.] => Setosa\n",
            "[0. 1. 0.] => Versicolor\n",
            "[0. 0. 1.] => Virginica\n",
            "\n",
            "\n"
          ],
          "name": "stdout"
        },
        {
          "output_type": "execute_result",
          "data": {
            "text/html": [
              "<div>\n",
              "<style scoped>\n",
              "    .dataframe tbody tr th:only-of-type {\n",
              "        vertical-align: middle;\n",
              "    }\n",
              "\n",
              "    .dataframe tbody tr th {\n",
              "        vertical-align: top;\n",
              "    }\n",
              "\n",
              "    .dataframe thead th {\n",
              "        text-align: right;\n",
              "    }\n",
              "</style>\n",
              "<table border=\"1\" class=\"dataframe\">\n",
              "  <thead>\n",
              "    <tr style=\"text-align: right;\">\n",
              "      <th></th>\n",
              "      <th>Sepal_Length</th>\n",
              "      <th>Sepal_Width</th>\n",
              "      <th>Petal_Length</th>\n",
              "      <th>Petal_Width</th>\n",
              "      <th>Target</th>\n",
              "    </tr>\n",
              "  </thead>\n",
              "  <tbody>\n",
              "    <tr>\n",
              "      <th>0</th>\n",
              "      <td>5.1</td>\n",
              "      <td>3.5</td>\n",
              "      <td>1.4</td>\n",
              "      <td>0.2</td>\n",
              "      <td>1 0 0</td>\n",
              "    </tr>\n",
              "    <tr>\n",
              "      <th>1</th>\n",
              "      <td>7.0</td>\n",
              "      <td>3.2</td>\n",
              "      <td>4.7</td>\n",
              "      <td>1.4</td>\n",
              "      <td>0 1 0</td>\n",
              "    </tr>\n",
              "    <tr>\n",
              "      <th>2</th>\n",
              "      <td>6.3</td>\n",
              "      <td>3.3</td>\n",
              "      <td>6.0</td>\n",
              "      <td>2.5</td>\n",
              "      <td>0 0 1</td>\n",
              "    </tr>\n",
              "  </tbody>\n",
              "</table>\n",
              "</div>"
            ],
            "text/plain": [
              "   Sepal_Length  Sepal_Width  Petal_Length  Petal_Width Target\n",
              "0           5.1          3.5           1.4          0.2  1 0 0\n",
              "1           7.0          3.2           4.7          1.4  0 1 0\n",
              "2           6.3          3.3           6.0          2.5  0 0 1"
            ]
          },
          "metadata": {
            "tags": []
          },
          "execution_count": 22
        }
      ]
    },
    {
      "cell_type": "code",
      "metadata": {
        "id": "xsVd-XnRZyGu",
        "colab_type": "code",
        "colab": {}
      },
      "source": [
        "y_train = np_utils.to_categorical(train['Target'].values)\n",
        "y_test = np_utils.to_categorical(test['Target'].values)"
      ],
      "execution_count": 0,
      "outputs": []
    },
    {
      "cell_type": "code",
      "metadata": {
        "id": "sJWvACp2KkEp",
        "colab_type": "code",
        "outputId": "ba20709d-a08e-44dc-8add-3d24210ceaf7",
        "colab": {
          "base_uri": "https://localhost:8080/",
          "height": 34
        }
      },
      "source": [
        "model = Sequential()\n",
        "model.add(Dense(8, input_dim=4, activation='sigmoid'))\n",
        "model.add(Dense(3, activation='softmax'))\n",
        "\n",
        "model.compile(optimizer='adam', loss='categorical_crossentropy', metrics=['accuracy'])\n",
        "\n",
        "model.fit(train.loc[:, ['Sepal_Length', 'Sepal_Width', 'Petal_Length', 'Petal_Width']], y_train, epochs=100, batch_size=1, verbose=0)"
      ],
      "execution_count": 34,
      "outputs": [
        {
          "output_type": "execute_result",
          "data": {
            "text/plain": [
              "<keras.callbacks.History at 0x7f643440a518>"
            ]
          },
          "metadata": {
            "tags": []
          },
          "execution_count": 34
        }
      ]
    },
    {
      "cell_type": "code",
      "metadata": {
        "id": "RdkHlxZ-YBg6",
        "colab_type": "code",
        "colab": {
          "base_uri": "https://localhost:8080/",
          "height": 51
        },
        "outputId": "b8c8e3fb-be3e-41e1-b269-5a9591d628a9"
      },
      "source": [
        "loss, acc = model.evaluate(test.loc[:, ['Sepal_Length', 'Sepal_Width', 'Petal_Length', 'Petal_Width']], y_test, verbose=0)\n",
        "\n",
        "print('Loss:', loss, '\\nSuccess/Accuracy:', acc)"
      ],
      "execution_count": 33,
      "outputs": [
        {
          "output_type": "stream",
          "text": [
            "Loss: 0.08901248872280121 \n",
            "Success/Accuracy: 1.0\n"
          ],
          "name": "stdout"
        }
      ]
    }
  ]
}