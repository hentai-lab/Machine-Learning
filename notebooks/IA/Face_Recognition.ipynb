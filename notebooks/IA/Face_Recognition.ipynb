{
 "cells": [
  {
   "cell_type": "code",
   "execution_count": 0,
   "metadata": {
    "colab": {},
    "colab_type": "code",
    "id": "ii5EBkDZDz4I"
   },
   "outputs": [],
   "source": [
    "!pip install --upgrade face_recognition\n",
    "!pip install --upgrade opencv-python"
   ]
  },
  {
   "cell_type": "code",
   "execution_count": 0,
   "metadata": {
    "colab": {},
    "colab_type": "code",
    "id": "AgbGv_-MEIwu"
   },
   "outputs": [],
   "source": [
    "!wget -O pic.jpg 'https://media.licdn.com/dms/image/C4D03AQHDsuwJf6rX0w/profile-displayphoto-shrink_200_200/0?e=1574899200&v=beta&t=Ny70D9QQIWbtkZGngLPn2yPih10tf0W-m6qwHM3NtXQ'\n",
    "!wget -O um.jpg 'https://media.licdn.com/dms/image/C4E03AQER_p7M5KxsMw/profile-displayphoto-shrink_200_200/0?e=1574294400&v=beta&t=nUNTUUbJYwrUekQK2o3_F-uUDZbY3nHOgSqvW5G2MTQ'\n",
    "!wget -O leit.jpg 'https://media.licdn.com/dms/image/C4D03AQHPH83HedAaMw/profile-displayphoto-shrink_800_800/0?e=1575504000&v=beta&t=dGiBrL7-a4QJjelFfBCQJ6pdeQpXhulQt1dBiY24xF4'\n",
    "!wget -O mig.jpg 'https://media.licdn.com/dms/image/C4D03AQHtodjy_hpn5Q/profile-displayphoto-shrink_800_800/0?e=1575504000&v=beta&t=ATugj3q6zDn8W9cW4T3YGuP5kYdmkuGopq1PO3TJb-c'\n",
    "!ls -la"
   ]
  },
  {
   "cell_type": "code",
   "execution_count": 0,
   "metadata": {
    "colab": {},
    "colab_type": "code",
    "id": "kV0LT71MEL3b"
   },
   "outputs": [],
   "source": [
    "import face_recognition\n",
    "import cv2\n",
    "import numpy as np\n",
    "\n",
    "from IPython.display import display, Javascript, Image, clear_output\n",
    "from google.colab.output import eval_js\n",
    "from google.colab.patches import cv2_imshow\n",
    "import urllib\n",
    "\n",
    "def take_photo(filename='photo.jpg', quality=0.4):\n",
    "  js = Javascript('''\n",
    "    async function takePhoto(quality) {\n",
    "      const div = document.createElement('div');\n",
    "\n",
    "      const video = document.createElement('video');\n",
    "      video.style.display = 'block';\n",
    "      const stream = await navigator.mediaDevices.getUserMedia({video: true});\n",
    "\n",
    "      document.body.appendChild(div);\n",
    "      div.appendChild(video);\n",
    "      video.srcObject = stream;\n",
    "      await video.play();\n",
    "\n",
    "      // Resize the output to fit the video element.\n",
    "      google.colab.output.setIframeHeight(document.documentElement.scrollHeight, true);\n",
    "\n",
    "      const canvas = document.createElement('canvas');\n",
    "      canvas.width = video.videoWidth;\n",
    "      canvas.height = video.videoHeight;\n",
    "      canvas.getContext('2d').drawImage(video, 0, 0);\n",
    "      stream.getVideoTracks()[0].stop();\n",
    "      div.remove();\n",
    "      return canvas.toDataURL('image/jpeg', quality);\n",
    "    }\n",
    "    ''')\n",
    "  display(js)\n",
    "  data = eval_js('takePhoto({})'.format(quality))\n",
    "  resp = urllib.request.urlopen(data)\n",
    "  image = np.asarray(bytearray(resp.read()), dtype=\"uint8\")\n",
    "  image = cv2.imdecode(image, cv2.IMREAD_COLOR)\n",
    "\n",
    "  return image"
   ]
  },
  {
   "cell_type": "code",
   "execution_count": 0,
   "metadata": {
    "colab": {},
    "colab_type": "code",
    "id": "RAND8H9cE8cP"
   },
   "outputs": [],
   "source": [
    "cam_image = face_recognition.load_image_file(\"pic.jpg\")\n",
    "cam_image_two = face_recognition.load_image_file(\"um.jpg\")\n",
    "cam_image_three = face_recognition.load_image_file(\"leit.jpg\")\n",
    "cam_image_four = face_recognition.load_image_file(\"mig.jpg\")\n",
    "cam_face_encoding = face_recognition.face_encodings(cam_image)[0]\n",
    "cam_face_encoding_two = face_recognition.face_encodings(cam_image_two)[0]\n",
    "cam_face_encoding_three = face_recognition.face_encodings(cam_image_three)[0]\n",
    "cam_face_encoding_four = face_recognition.face_encodings(cam_image_four)[0]\n",
    "\n",
    "known_face_encodings = [\n",
    "    cam_face_encoding,\n",
    "    cam_face_encoding_two,\n",
    "    cam_face_encoding_three,\n",
    "    cam_face_encoding_four\n",
    "]\n",
    "known_face_names = [\n",
    "    \"Polillo\",\n",
    "    \"1berto\",\n",
    "    \"Big Milk\",\n",
    "    \"Bunny\"\n",
    "]"
   ]
  },
  {
   "cell_type": "code",
   "execution_count": 0,
   "metadata": {
    "colab": {},
    "colab_type": "code",
    "id": "1--M4ohHpc07"
   },
   "outputs": [],
   "source": [
    "face_locations = []\n",
    "face_encodings = []\n",
    "face_names = []\n",
    "process_this_frame = True\n",
    "first = True\n",
    "\n",
    "filename = 'result.jpg'\n",
    "scale = 6\n",
    "\n",
    "while True:\n",
    "    frame = take_photo()\n",
    "\n",
    "    small_frame = cv2.resize(frame, (0, 0), fx=1/scale, fy=1/scale)\n",
    "\n",
    "    rgb_small_frame = small_frame[:, :, ::-1]\n",
    "\n",
    "    if process_this_frame:\n",
    "        face_locations = face_recognition.face_locations(rgb_small_frame)\n",
    "        face_encodings = face_recognition.face_encodings(rgb_small_frame, face_locations)\n",
    "\n",
    "        face_names = []\n",
    "        for face_encoding in face_encodings:\n",
    "            matches = face_recognition.compare_faces(known_face_encodings, face_encoding)\n",
    "            name = \"Capybara\"\n",
    "\n",
    "            face_distances = face_recognition.face_distance(known_face_encodings, face_encoding)\n",
    "            best_match_index = np.argmin(face_distances)\n",
    "            if matches[best_match_index]:\n",
    "                name = known_face_names[best_match_index]\n",
    "\n",
    "            face_names.append(name)\n",
    "\n",
    "    process_this_frame = not process_this_frame\n",
    "\n",
    "    for (top, right, bottom, left), name in zip(face_locations, face_names):\n",
    "        top *= scale\n",
    "        right *= scale\n",
    "        bottom *= scale\n",
    "        left *= scale\n",
    "\n",
    "        if name == \"Polillo\":\n",
    "          cv2.rectangle(frame, (left, top), (right, bottom), (100, 0, 100), 2)\n",
    "        elif name == \"1berto\":\n",
    "          cv2.rectangle(frame, (left, top), (right, bottom), (100, 0, 100), 2)\n",
    "        # cv2.circle(frame, (left, top), 5, (100, 0, 100), 1)\n",
    "\n",
    "        cv2.rectangle(frame, (left, bottom - 35), (right, bottom), (100, 0, 100), cv2.FILLED)\n",
    "        font = cv2.FONT_HERSHEY_DUPLEX\n",
    "        cv2.putText(frame, name, (left + 6, bottom - 6), font, 1.0, (255, 255, 255), 1)\n",
    "        \n",
    "    clear_output()\n",
    "    cv2_imshow(frame)\n"
   ]
  }
 ],
 "metadata": {
  "accelerator": "GPU",
  "colab": {
   "collapsed_sections": [],
   "name": "Face_Recognition",
   "provenance": []
  },
  "kernelspec": {
   "display_name": "Python 3",
   "language": "python",
   "name": "python3"
  },
  "language_info": {
   "codemirror_mode": {
    "name": "ipython",
    "version": 3
   },
   "file_extension": ".py",
   "mimetype": "text/x-python",
   "name": "python",
   "nbconvert_exporter": "python",
   "pygments_lexer": "ipython3",
   "version": "3.7.3"
  }
 },
 "nbformat": 4,
 "nbformat_minor": 1
}
